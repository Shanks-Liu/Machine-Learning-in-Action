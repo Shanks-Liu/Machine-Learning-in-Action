{
 "cells": [
  {
   "cell_type": "markdown",
   "metadata": {},
   "source": [
    "# FP树的类定义"
   ]
  },
  {
   "cell_type": "code",
   "execution_count": 1,
   "metadata": {},
   "outputs": [],
   "source": [
    "import copy"
   ]
  },
  {
   "cell_type": "code",
   "execution_count": 2,
   "metadata": {},
   "outputs": [],
   "source": [
    "class treeNode:\n",
    "    def __init__(self, nameValue, numOccur, parentNode):\n",
    "        self.name = nameValue\n",
    "        self.count = numOccur\n",
    "        self.nodeLink = None\n",
    "        self.parent = parentNode\n",
    "        self.children = {}\n",
    "        \n",
    "    def inc(self, numOccur):\n",
    "        self.count += numOccur\n",
    "    \n",
    "    def disp(self, ind=1):\n",
    "        print('  '*ind, self.name, ' ', self.count)\n",
    "        for child in self.children.values():\n",
    "            child.disp(ind+1)"
   ]
  },
  {
   "cell_type": "code",
   "execution_count": 3,
   "metadata": {},
   "outputs": [],
   "source": [
    "rootNode = treeNode('pyramid', 9, None)"
   ]
  },
  {
   "cell_type": "code",
   "execution_count": 4,
   "metadata": {},
   "outputs": [],
   "source": [
    "rootNode.children['eye'] = treeNode('eye', 13, None)"
   ]
  },
  {
   "cell_type": "code",
   "execution_count": 5,
   "metadata": {},
   "outputs": [
    {
     "name": "stdout",
     "output_type": "stream",
     "text": [
      "   pyramid   9\n",
      "     eye   13\n"
     ]
    }
   ],
   "source": [
    "rootNode.disp()"
   ]
  },
  {
   "cell_type": "code",
   "execution_count": 6,
   "metadata": {},
   "outputs": [
    {
     "name": "stdout",
     "output_type": "stream",
     "text": [
      "   pyramid   9\n",
      "     eye   13\n",
      "     phoenix   3\n"
     ]
    }
   ],
   "source": [
    "rootNode.children['phoenix'] = treeNode('phoenix', 3, None)\n",
    "rootNode.disp()"
   ]
  },
  {
   "cell_type": "markdown",
   "metadata": {},
   "source": [
    "# 构建FP树"
   ]
  },
  {
   "cell_type": "code",
   "execution_count": 7,
   "metadata": {},
   "outputs": [],
   "source": [
    "def createTree(dataSet, minSup=1):\n",
    "    headerTable = {}\n",
    "    for trans in dataSet:  #第一遍遍历扫描数据集并统计每个元素项出现的频度\n",
    "        for item in trans:\n",
    "            headerTable[item] = headerTable.get(item, 0) + dataSet[trans]\n",
    "    ##########################之前这里出错了，加上这一语句就好了\n",
    "    headerTab = copy.deepcopy(headerTable)\n",
    "    ###########################copy 模块的 deepcopy 方法，完全拷贝了父对象及其子对象。\n",
    "    for k in headerTable.keys():\n",
    "        if headerTable[k] < minSup:  #删掉出现次数少于minSup的元素项\n",
    "            del(headerTable[k])\n",
    "    freqItemSet = set(headerTable.keys())\n",
    "    if len(freqItemSet) == 0:\n",
    "        return None, None  #如果所有项都不频繁，则退出\n",
    "    for k in headerTable:\n",
    "        headerTable[k] = [headerTable[k], None]\n",
    "    retTree = treeNode('Null Set', 1, None)  #创建只包含空集合的根节点\n",
    "    for tranSet, count in dataSet.items():  #第二遍遍历\n",
    "        localD = {}\n",
    "        for item in tranSet:\n",
    "            if item in freqItemSet:  #只考虑频繁元素项\n",
    "                localD[item] = headerTable[item][0]\n",
    "        if len(lacalD) > 0:\n",
    "            orderedItems = [v[0] for v in sorted(localD.items(), key=lambda p: p[1], reverse=True)]\n",
    "            updateTree(orderedItem, retTree, headerTable, count)\n",
    "    return retTree, headerTable\n",
    "\n",
    "def updateTree(items, inTree, headerTable, count):\n",
    "    if items[0] in inTree.children:  #如果作为子节点存在\n",
    "        inTree.children[items[0]].inc(count)  #增加计数\n",
    "    else:  #否则，创建一个新的treeNode并将其作为一个子节点添加到树中\n",
    "        inTree.children[items[0]] = treeNode(items[0], count, inTree)\n",
    "        if headerTable[items[0]][1] == None:\n",
    "            headerTable[items[0]][1] = inTree.children[items[0]]\n",
    "        else:\n",
    "            updateHeader(headerTable[items[0]][1], inTree.children[items[0]])\n",
    "    if len(items) > 1:\n",
    "        updateTree(items[1::], inTree.children[items[0]], headerTable, count)  #对剩下的元素项迭代调用\n",
    "        \n",
    "def updateHeader(nodeToTest, targetNode):  #更新头指针表以指向新的节点\n",
    "    while (nodeToTest.nodeLink != None):\n",
    "        nodeToTest = nodeToTest.nodeLink\n",
    "    nodeToTest.nodeLink = targetNode"
   ]
  },
  {
   "cell_type": "markdown",
   "metadata": {},
   "source": [
    "## 复制的别人的代码，来查找bug"
   ]
  },
  {
   "cell_type": "code",
   "execution_count": 8,
   "metadata": {},
   "outputs": [],
   "source": [
    "#FP树构建函数\n",
    "#使用数据集和最小支持度作为参数构建FP树\n",
    "#构建时，会遍历数据集两次，\n",
    "#第一次统计每个元素项出现的频度，并将信息存储到头指针表中，并删除那些次数少于minSup的项\n",
    "def createTree(dataSet, minSup=1):\n",
    "    \n",
    "    headerTable = {}         #将每个元素出现的频度的信息存储到headerTable\n",
    "    #遍历两次数据集\n",
    "    #第一次统计每个元素项出现的频度，并存储，然后删除那些次数少于minSup的项\n",
    "    for trans in dataSet:\n",
    "        for item in trans:\n",
    "            headerTable[item] = headerTable.get(item, 0) + dataSet[trans]\n",
    "    \n",
    "    #删除那些次数少于minSup的项\n",
    "    headerTab = copy.deepcopy(headerTable)\n",
    "    for k in headerTab.keys():  \n",
    "        if headerTab[k] < minSup: \n",
    "            del(headerTable[k])\n",
    "    freqItemSet = set(headerTable.keys())\n",
    "    #print('freqItemSet: ',freqItemSet)\n",
    "    #若所有项都不频繁，则直接退出\n",
    "    if len(freqItemSet) == 0: return None, None  \n",
    "    for k in headerTable:\n",
    "        headerTable[k] = [headerTable[k], None] #reformat headerTable to use Node link \n",
    "    #print('headerTable: ',headerTable)\n",
    "    #创建FP树\n",
    "    retTree = treeNode('Null Set', 1, None) \n",
    "    #第二次遍历数据集\n",
    "    for tranSet, count in dataSet.items():  \n",
    "        localD = {}\n",
    "        #根据全局频率对每个事务中的元素进行排序\n",
    "        for item in tranSet:  \n",
    "            if item in freqItemSet:\n",
    "                localD[item] = headerTable[item][0]\n",
    "        if len(localD) > 0:\n",
    "            #按照元素项的绝对出现的次数大小进行排序,key=lambda p: p[1]代表按照字典的第2个元素进行排序\n",
    "            orderedItems = [v[0] for v in sorted(localD.items(), key=lambda p: p[1], reverse=True)]\n",
    "            #print(\"orderedItems:\",orderedItems)\n",
    "            #使用排序后的频率项集对树进行填充\n",
    "            updateTree(orderedItems, retTree, headerTable, count)\n",
    "    return retTree, headerTable #return tree and header table\n",
    " \n",
    "    #输入的是一个项集，让FP树生长\n",
    "def updateTree(items, inTree, headerTable, count):\n",
    "    #测试事务中的第一个元素项是否作为子节点存在\n",
    "    if items[0] in inTree.children:\n",
    "        #若是，则增加该元素项的计数\n",
    "        inTree.children[items[0]].inc(count) \n",
    "    else:   #否则，则创建一个新的treeNode，并将其作为一个子节点添加到树中\n",
    "        inTree.children[items[0]] = treeNode(items[0], count, inTree)\n",
    "        #更新头指针表\n",
    "        if headerTable[items[0]][1] == None:  \n",
    "            headerTable[items[0]][1] = inTree.children[items[0]]\n",
    "        else:\n",
    "            updateHeader(headerTable[items[0]][1], inTree.children[items[0]])\n",
    "    #不断调用调用自身，每次调用时会去掉列表中的第一个元素，直到调用完所有元素\n",
    "    if len(items) > 1:\n",
    "        updateTree(items[1::], inTree.children[items[0]], headerTable, count)\n",
    " \n",
    "    #更新头指针表，确保节点链接指向树中该元素项的每一个实例        \n",
    "def updateHeader(nodeToTest, targetNode):   \n",
    "    while (nodeToTest.nodeLink != None):    \n",
    "        nodeToTest = nodeToTest.nodeLink\n",
    "    nodeToTest.nodeLink = targetNode\n"
   ]
  },
  {
   "cell_type": "markdown",
   "metadata": {},
   "source": [
    "# 数据集转换"
   ]
  },
  {
   "cell_type": "code",
   "execution_count": 9,
   "metadata": {},
   "outputs": [],
   "source": [
    "def loadSimpDat():\n",
    "    simpDat = [['r', 'z', 'h', 'j', 'p'],\n",
    "              ['z', 'y', 'x', 'w', 'v', 'u', 't', 's'],\n",
    "              ['z'],\n",
    "              ['r', 'x', 'n', 'o', 's'],\n",
    "              ['y', 'r', 'x', 'z', 'q', 't', 'p'],\n",
    "              ['y', 'z', 'x', 'e', 'q', 's', 't', 'm']]\n",
    "    return simpDat\n",
    "\n",
    "def createInitSet(dataSet):\n",
    "    retDict = {}\n",
    "    for trans in dataSet:\n",
    "        retDict[frozenset(trans)] = 1\n",
    "    return retDict"
   ]
  },
  {
   "cell_type": "code",
   "execution_count": 10,
   "metadata": {},
   "outputs": [
    {
     "data": {
      "text/plain": [
       "[['r', 'z', 'h', 'j', 'p'],\n",
       " ['z', 'y', 'x', 'w', 'v', 'u', 't', 's'],\n",
       " ['z'],\n",
       " ['r', 'x', 'n', 'o', 's'],\n",
       " ['y', 'r', 'x', 'z', 'q', 't', 'p'],\n",
       " ['y', 'z', 'x', 'e', 'q', 's', 't', 'm']]"
      ]
     },
     "execution_count": 10,
     "metadata": {},
     "output_type": "execute_result"
    }
   ],
   "source": [
    "simpDat = loadSimpDat()\n",
    "simpDat"
   ]
  },
  {
   "cell_type": "code",
   "execution_count": 11,
   "metadata": {},
   "outputs": [
    {
     "data": {
      "text/plain": [
       "{frozenset({'h', 'j', 'p', 'r', 'z'}): 1,\n",
       " frozenset({'s', 't', 'u', 'v', 'w', 'x', 'y', 'z'}): 1,\n",
       " frozenset({'z'}): 1,\n",
       " frozenset({'n', 'o', 'r', 's', 'x'}): 1,\n",
       " frozenset({'p', 'q', 'r', 't', 'x', 'y', 'z'}): 1,\n",
       " frozenset({'e', 'm', 'q', 's', 't', 'x', 'y', 'z'}): 1}"
      ]
     },
     "execution_count": 11,
     "metadata": {},
     "output_type": "execute_result"
    }
   ],
   "source": [
    "initSet = createInitSet(simpDat)\n",
    "initSet"
   ]
  },
  {
   "cell_type": "code",
   "execution_count": 12,
   "metadata": {},
   "outputs": [],
   "source": [
    "myFPtree, myHeaderTab = createTree(initSet, 3)"
   ]
  },
  {
   "cell_type": "code",
   "execution_count": 13,
   "metadata": {},
   "outputs": [
    {
     "name": "stdout",
     "output_type": "stream",
     "text": [
      "   Null Set   1\n",
      "     z   5\n",
      "       r   1\n",
      "       x   3\n",
      "         t   3\n",
      "           s   2\n",
      "             y   2\n",
      "           r   1\n",
      "             y   1\n",
      "     x   1\n",
      "       r   1\n",
      "         s   1\n"
     ]
    }
   ],
   "source": [
    "myFPtree.disp()"
   ]
  },
  {
   "cell_type": "markdown",
   "metadata": {},
   "source": [
    "# 从FP树中挖掘频繁项集"
   ]
  },
  {
   "cell_type": "markdown",
   "metadata": {},
   "source": [
    "## 原理和Apriori算法大致类似，从单元素项集开始"
   ]
  },
  {
   "cell_type": "markdown",
   "metadata": {},
   "source": [
    "## 发现以给定元素项结尾的所有路径的函数"
   ]
  },
  {
   "cell_type": "code",
   "execution_count": 18,
   "metadata": {},
   "outputs": [],
   "source": [
    "def ascendTree(leafNode, prefixPath):\n",
    "    if leafNode.parent != None:\n",
    "        prefixPath.append(leafNode.name)\n",
    "        ascendTree(leafNode.parent, prefixPath)\n",
    "        \n",
    "def findPrefixPath(basePat, treeNode):\n",
    "    condPats = {}\n",
    "    while treeNode != None:\n",
    "        prefixPath = []\n",
    "        ascendTree(treeNode, prefixPath)\n",
    "        if len(prefixPath) > 1:\n",
    "            condPats[frozenset(prefixPath[1:])] = treeNode.count\n",
    "        treeNode = treeNode.nodeLink\n",
    "    return condPats"
   ]
  },
  {
   "cell_type": "code",
   "execution_count": 19,
   "metadata": {},
   "outputs": [
    {
     "data": {
      "text/plain": [
       "{frozenset({'z'}): 3}"
      ]
     },
     "execution_count": 19,
     "metadata": {},
     "output_type": "execute_result"
    }
   ],
   "source": [
    "findPrefixPath('x', myHeaderTab['x'][1])"
   ]
  },
  {
   "cell_type": "code",
   "execution_count": 20,
   "metadata": {},
   "outputs": [
    {
     "data": {
      "text/plain": [
       "{}"
      ]
     },
     "execution_count": 20,
     "metadata": {},
     "output_type": "execute_result"
    }
   ],
   "source": [
    "findPrefixPath('z', myHeaderTab['z'][1])"
   ]
  },
  {
   "cell_type": "code",
   "execution_count": 21,
   "metadata": {},
   "outputs": [
    {
     "data": {
      "text/plain": [
       "{frozenset({'z'}): 1, frozenset({'x'}): 1, frozenset({'t', 'x', 'z'}): 1}"
      ]
     },
     "execution_count": 21,
     "metadata": {},
     "output_type": "execute_result"
    }
   ],
   "source": [
    "findPrefixPath('r', myHeaderTab['r'][1])"
   ]
  },
  {
   "cell_type": "markdown",
   "metadata": {},
   "source": [
    "## 根据条件模式基来创建条件树"
   ]
  },
  {
   "cell_type": "code",
   "execution_count": 22,
   "metadata": {},
   "outputs": [],
   "source": [
    "def mineTree(inTree,headerTable, minSup,preFix, freqItemList):\n",
    "    #对头指针表中的元素项按照其出现频率从小到大进行排序\n",
    "    bigL = [v[0] for v in sorted(headerTable.items(),key = lambda p:p[1][0])]\n",
    "    for basePat in bigL:\n",
    "        newFreqSet = preFix.copy()\n",
    "        newFreqSet.add(basePat)\n",
    "        #将每一个频繁项添加到频繁项集列表freqItemList中\n",
    "        freqItemList.append(newFreqSet)\n",
    "        #创建条件基\n",
    "        condPattBases = findPrefixPath(basePat, headerTable[basePat][1])\n",
    "        #利用条件基当做一个新数据集输送给createTree()函数\n",
    "        myCondTree,myHead = createTree(condPattBases,minSup)\n",
    "        #只要树中有元素项，递归调用mineTree()函数\n",
    "        if myHead != None:\n",
    "            print(\"condition tree for:\",newFreqSet)\n",
    "            myCondTree.disp(1)\n",
    "            mineTree(myCondTree,myHead,minSup,newFreqSet,freqItemList)"
   ]
  },
  {
   "cell_type": "code",
   "execution_count": 23,
   "metadata": {},
   "outputs": [
    {
     "name": "stdout",
     "output_type": "stream",
     "text": [
      "condition tree for: {'t'}\n",
      "   Null Set   1\n",
      "     z   3\n",
      "       x   3\n",
      "condition tree for: {'t', 'x'}\n",
      "   Null Set   1\n",
      "     z   3\n",
      "condition tree for: {'s'}\n",
      "   Null Set   1\n",
      "     x   3\n",
      "condition tree for: {'y'}\n",
      "   Null Set   1\n",
      "     t   3\n",
      "       z   3\n",
      "         x   3\n",
      "condition tree for: {'y', 'z'}\n",
      "   Null Set   1\n",
      "     t   3\n",
      "condition tree for: {'y', 'x'}\n",
      "   Null Set   1\n",
      "     t   3\n",
      "       z   3\n",
      "condition tree for: {'y', 'z', 'x'}\n",
      "   Null Set   1\n",
      "     t   3\n",
      "condition tree for: {'x'}\n",
      "   Null Set   1\n",
      "     z   3\n"
     ]
    }
   ],
   "source": [
    "freqItems = []\n",
    "mineTree(myFPtree, myHeaderTab, 3, set([]), freqItems)"
   ]
  },
  {
   "cell_type": "code",
   "execution_count": 24,
   "metadata": {},
   "outputs": [
    {
     "data": {
      "text/plain": [
       "[{'r'},\n",
       " {'t'},\n",
       " {'t', 'z'},\n",
       " {'t', 'x'},\n",
       " {'t', 'x', 'z'},\n",
       " {'s'},\n",
       " {'s', 'x'},\n",
       " {'y'},\n",
       " {'t', 'y'},\n",
       " {'y', 'z'},\n",
       " {'t', 'y', 'z'},\n",
       " {'x', 'y'},\n",
       " {'t', 'x', 'y'},\n",
       " {'x', 'y', 'z'},\n",
       " {'t', 'x', 'y', 'z'},\n",
       " {'x'},\n",
       " {'x', 'z'},\n",
       " {'z'}]"
      ]
     },
     "execution_count": 24,
     "metadata": {},
     "output_type": "execute_result"
    }
   ],
   "source": [
    "freqItems"
   ]
  },
  {
   "cell_type": "markdown",
   "metadata": {},
   "source": [
    "# 新闻网站点击流中挖掘"
   ]
  },
  {
   "cell_type": "code",
   "execution_count": 26,
   "metadata": {},
   "outputs": [],
   "source": [
    "parsedDat = [line.split() for line in open('kosarak.dat').readlines()]\n",
    "initSet = createInitSet(parsedDat)\n",
    "myFPtree, myHeaderTab = createTree(initSet, 100000)"
   ]
  },
  {
   "cell_type": "code",
   "execution_count": 27,
   "metadata": {},
   "outputs": [
    {
     "name": "stdout",
     "output_type": "stream",
     "text": [
      "condition tree for: {'1'}\n",
      "   Null Set   1\n",
      "     6   107404\n",
      "condition tree for: {'3'}\n",
      "   Null Set   1\n",
      "     6   186289\n",
      "       11   117401\n",
      "     11   9718\n",
      "condition tree for: {'3', '11'}\n",
      "   Null Set   1\n",
      "     6   117401\n",
      "condition tree for: {'11'}\n",
      "   Null Set   1\n",
      "     6   261773\n"
     ]
    }
   ],
   "source": [
    "myFreqList = []\n",
    "mineTree(myFPtree, myHeaderTab, 100000, set([]), myFreqList)"
   ]
  },
  {
   "cell_type": "code",
   "execution_count": 28,
   "metadata": {},
   "outputs": [
    {
     "data": {
      "text/plain": [
       "[{'1'},\n",
       " {'1', '6'},\n",
       " {'3'},\n",
       " {'11', '3'},\n",
       " {'11', '3', '6'},\n",
       " {'3', '6'},\n",
       " {'11'},\n",
       " {'11', '6'},\n",
       " {'6'}]"
      ]
     },
     "execution_count": 28,
     "metadata": {},
     "output_type": "execute_result"
    }
   ],
   "source": [
    "myFreqList"
   ]
  },
  {
   "cell_type": "code",
   "execution_count": null,
   "metadata": {},
   "outputs": [],
   "source": []
  }
 ],
 "metadata": {
  "kernelspec": {
   "display_name": "Python 3",
   "language": "python",
   "name": "python3"
  },
  "language_info": {
   "codemirror_mode": {
    "name": "ipython",
    "version": 3
   },
   "file_extension": ".py",
   "mimetype": "text/x-python",
   "name": "python",
   "nbconvert_exporter": "python",
   "pygments_lexer": "ipython3",
   "version": "3.6.5"
  }
 },
 "nbformat": 4,
 "nbformat_minor": 2
}
