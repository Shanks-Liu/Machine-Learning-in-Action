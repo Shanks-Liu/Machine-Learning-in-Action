{
 "cells": [
  {
   "cell_type": "code",
   "execution_count": 1,
   "metadata": {},
   "outputs": [],
   "source": [
    "from numpy import *"
   ]
  },
  {
   "cell_type": "code",
   "execution_count": 39,
   "metadata": {},
   "outputs": [],
   "source": [
    "def loadDataSet(fileName):\n",
    "    '''\n",
    "    读取文件的函数，返回数据二维列表，标签列表\n",
    "    '''\n",
    "    featNum = len(open(fileName).readline().strip().split('\\t')) - 1\n",
    "    dataMat = []\n",
    "    labelMat = []\n",
    "    with open(fileName) as fr:\n",
    "        for line in fr.readlines():\n",
    "            lineArr = []\n",
    "            curLine = line.strip().split('\\t')\n",
    "            for i in range(featNum):\n",
    "                lineArr.append(float(curLine[i]))\n",
    "            dataMat.append(lineArr)\n",
    "            labelMat.append(float(curLine[-1]))\n",
    "    return dataMat, labelMat\n",
    "            \n",
    "def standRegres(xArr, yArr):\n",
    "    xMat = mat(xArr)  \n",
    "    yMat = mat(yArr).T\n",
    "    xTx = xMat.T * xMat\n",
    "    if linalg.det(xTx) == 0.0:  #判断行列式\n",
    "        print('该矩阵不可逆')\n",
    "        return\n",
    "    ws = xTx.I * xMat.T * yMat\n",
    "    return ws"
   ]
  },
  {
   "cell_type": "code",
   "execution_count": 40,
   "metadata": {},
   "outputs": [
    {
     "data": {
      "text/plain": [
       "[[1.0, 0.067732], [1.0, 0.42781]]"
      ]
     },
     "execution_count": 40,
     "metadata": {},
     "output_type": "execute_result"
    }
   ],
   "source": [
    "xArr, yArr = loadDataSet('ex0.txt')\n",
    "xArr[0:2]"
   ]
  },
  {
   "cell_type": "code",
   "execution_count": 42,
   "metadata": {},
   "outputs": [
    {
     "data": {
      "text/plain": [
       "matrix([[3.00774324],\n",
       "        [1.69532264]])"
      ]
     },
     "execution_count": 42,
     "metadata": {},
     "output_type": "execute_result"
    }
   ],
   "source": [
    "ws = standRegres(xArr, yArr)\n",
    "xMat = mat(xArr)\n",
    "ws"
   ]
  },
  {
   "cell_type": "code",
   "execution_count": 43,
   "metadata": {},
   "outputs": [
    {
     "data": {
      "text/plain": [
       "matrix([[3.12257084],\n",
       "        [3.73301922],\n",
       "        [4.69582855],\n",
       "        [4.25946098],\n",
       "        [4.67099547],\n",
       "        [3.89977285],\n",
       "        [3.65007895],\n",
       "        [3.06514517],\n",
       "        [3.23286683],\n",
       "        [3.24221654],\n",
       "        [3.42785945],\n",
       "        [4.10677005],\n",
       "        [4.24737842],\n",
       "        [3.40925159],\n",
       "        [4.6518468 ],\n",
       "        [4.03763819],\n",
       "        [3.61572324],\n",
       "        [3.25838991],\n",
       "        [4.08905393],\n",
       "        [3.39829811],\n",
       "        [3.12681762],\n",
       "        [3.12159094],\n",
       "        [4.57689489],\n",
       "        [4.22453225],\n",
       "        [3.03380205],\n",
       "        [3.575795  ],\n",
       "        [3.07638008],\n",
       "        [3.36812645],\n",
       "        [4.05412689],\n",
       "        [3.92524508],\n",
       "        [3.08463121],\n",
       "        [3.22264573],\n",
       "        [3.95116656],\n",
       "        [4.53547307],\n",
       "        [4.63266931],\n",
       "        [3.47321272],\n",
       "        [3.67637171],\n",
       "        [4.48687834],\n",
       "        [3.70271024],\n",
       "        [4.54873897],\n",
       "        [3.29055527],\n",
       "        [4.13515992],\n",
       "        [3.4548456 ],\n",
       "        [3.39972557],\n",
       "        [3.9451346 ],\n",
       "        [3.08868473],\n",
       "        [3.62780072],\n",
       "        [3.84693134],\n",
       "        [3.84432733],\n",
       "        [4.35061   ],\n",
       "        [4.31256527],\n",
       "        [3.43466109],\n",
       "        [3.31620889],\n",
       "        [4.37786401],\n",
       "        [3.57417766],\n",
       "        [3.58183035],\n",
       "        [3.77501915],\n",
       "        [4.18560255],\n",
       "        [4.00951278],\n",
       "        [3.52978055],\n",
       "        [3.25926809],\n",
       "        [4.1981649 ],\n",
       "        [4.23099312],\n",
       "        [4.13833018],\n",
       "        [3.2195416 ],\n",
       "        [4.0559375 ],\n",
       "        [3.65380697],\n",
       "        [3.66153255],\n",
       "        [4.32530562],\n",
       "        [3.20455155],\n",
       "        [3.20353097],\n",
       "        [4.13260677],\n",
       "        [3.43985386],\n",
       "        [4.69270407],\n",
       "        [3.50859919],\n",
       "        [4.62257705],\n",
       "        [3.52828697],\n",
       "        [3.47779009],\n",
       "        [3.48090949],\n",
       "        [3.30565212],\n",
       "        [3.27286288],\n",
       "        [4.25069447],\n",
       "        [4.44561758],\n",
       "        [4.31514894],\n",
       "        [3.73587075],\n",
       "        [3.28268389],\n",
       "        [4.56246261],\n",
       "        [3.54184447],\n",
       "        [3.34930498],\n",
       "        [3.51131849],\n",
       "        [3.57846852],\n",
       "        [4.13701291],\n",
       "        [3.99762179],\n",
       "        [3.15189822],\n",
       "        [4.17244007],\n",
       "        [4.61771487],\n",
       "        [3.32970536],\n",
       "        [4.43864133],\n",
       "        [3.57277394],\n",
       "        [3.73170535],\n",
       "        [3.79838917],\n",
       "        [3.94128791],\n",
       "        [3.47940404],\n",
       "        [4.56535313],\n",
       "        [4.51074001],\n",
       "        [3.97320914],\n",
       "        [3.12027706],\n",
       "        [3.57694952],\n",
       "        [3.73141375],\n",
       "        [3.6786604 ],\n",
       "        [4.18467182],\n",
       "        [3.47015945],\n",
       "        [3.86132972],\n",
       "        [3.1215316 ],\n",
       "        [3.07271818],\n",
       "        [4.02344833],\n",
       "        [4.61330533],\n",
       "        [4.14577773],\n",
       "        [3.74488818],\n",
       "        [3.87130839],\n",
       "        [4.27828923],\n",
       "        [3.10609569],\n",
       "        [3.82654678],\n",
       "        [3.79907916],\n",
       "        [3.61427374],\n",
       "        [4.61681295],\n",
       "        [3.71523529],\n",
       "        [4.56822162],\n",
       "        [3.27294765],\n",
       "        [4.1209972 ],\n",
       "        [4.05277064],\n",
       "        [4.45457905],\n",
       "        [3.23372127],\n",
       "        [4.1826137 ],\n",
       "        [3.31027187],\n",
       "        [3.34600419],\n",
       "        [3.13188155],\n",
       "        [3.49347861],\n",
       "        [3.31633604],\n",
       "        [4.06142526],\n",
       "        [3.5919243 ],\n",
       "        [3.68342425],\n",
       "        [3.82212368],\n",
       "        [3.26772097],\n",
       "        [3.29907766],\n",
       "        [4.47772699],\n",
       "        [3.38724969],\n",
       "        [3.90338389],\n",
       "        [4.5169059 ],\n",
       "        [3.1880442 ],\n",
       "        [4.56385616],\n",
       "        [3.03292726],\n",
       "        [3.97014739],\n",
       "        [3.12447299],\n",
       "        [4.03092979],\n",
       "        [3.90973965],\n",
       "        [4.11201199],\n",
       "        [4.53561039],\n",
       "        [3.35416039],\n",
       "        [4.18782512],\n",
       "        [4.64190543],\n",
       "        [4.67151593],\n",
       "        [4.68257113],\n",
       "        [4.68771813],\n",
       "        [4.25553631],\n",
       "        [3.43763299],\n",
       "        [4.15161473],\n",
       "        [4.60027508],\n",
       "        [3.4068544 ],\n",
       "        [3.195112  ],\n",
       "        [3.37736257],\n",
       "        [4.48229758],\n",
       "        [3.3414336 ],\n",
       "        [4.6321641 ],\n",
       "        [4.6567378 ],\n",
       "        [4.27210978],\n",
       "        [3.76330447],\n",
       "        [3.80548918],\n",
       "        [3.93887547],\n",
       "        [3.5768478 ],\n",
       "        [4.5076613 ],\n",
       "        [4.56560234],\n",
       "        [3.75676222],\n",
       "        [3.20541447],\n",
       "        [3.61682859],\n",
       "        [4.38911078],\n",
       "        [3.66404502],\n",
       "        [4.67296204],\n",
       "        [4.33158679],\n",
       "        [4.11405146],\n",
       "        [4.4827248 ],\n",
       "        [4.03299809],\n",
       "        [3.44040992],\n",
       "        [4.24625442],\n",
       "        [3.84494273],\n",
       "        [3.44346998],\n",
       "        [4.42119307],\n",
       "        [3.12657688],\n",
       "        [3.90129695],\n",
       "        [3.20467701]])"
      ]
     },
     "execution_count": 43,
     "metadata": {},
     "output_type": "execute_result"
    }
   ],
   "source": [
    "yHat = xMat * ws\n",
    "yHat"
   ]
  },
  {
   "cell_type": "code",
   "execution_count": 46,
   "metadata": {},
   "outputs": [
    {
     "data": {
      "text/plain": [
       "[<matplotlib.lines.Line2D at 0x223032e37f0>]"
      ]
     },
     "execution_count": 46,
     "metadata": {},
     "output_type": "execute_result"
    },
    {
     "data": {
      "image/png": "[encoded data removed]",
      "text/plain": [
       "<Figure size 432x288 with 1 Axes>"
      ]
     },
     "metadata": {},
     "output_type": "display_data"
    }
   ],
   "source": [
    "import matplotlib.pyplot as plt\n",
    "%matplotlib inline\n",
    "fig = plt.figure()\n",
    "ax = fig.add_subplot(111)\n",
    "#print(repr(xMat[:, 1])) \n",
    "#print(repr(xMat[:, 1].flatten()))  #flatten函数让列矩阵会变成行矩阵，但是如果是矩阵形式，取[0]后形状仍然是(x,y),\n",
    "                                        #而如果是数组形式，取[0]后形状就变成了(x,)←画图需要这种形状\n",
    "ax.scatter(xMat[:, 1].flatten().A[0], yMat.T[:, 0].flatten().A[0])\n",
    "xCopy = xMat.copy()\n",
    "xCopy.sort(0)  #需要排序，否则画图会出错\n",
    "yHat = xCopy * ws\n",
    "ax.plot(xCopy[:, 1], yHat)\n"
   ]
  },
  {
   "cell_type": "markdown",
   "metadata": {},
   "source": [
    "### 返回皮尔逊积矩相关系数"
   ]
  },
  {
   "cell_type": "code",
   "execution_count": 5,
   "metadata": {},
   "outputs": [
    {
     "data": {
      "text/plain": [
       "array([[1.        , 0.13653777],\n",
       "       [0.13653777, 1.        ]])"
      ]
     },
     "execution_count": 5,
     "metadata": {},
     "output_type": "execute_result"
    }
   ],
   "source": [
    "corrcoef(yHat.T, yMat)"
   ]
  },
  {
   "cell_type": "code",
   "execution_count": 69,
   "metadata": {},
   "outputs": [],
   "source": [
    "def lwlr(testPoint, xArr, yArr, k=1.0):\n",
    "    '''\n",
    "    返回预测值，矩阵形式，一个值\n",
    "    '''\n",
    "    xMat = mat(xArr)\n",
    "    yMat = mat(yArr).T\n",
    "    m = xMat.shape[0]\n",
    "    weights = mat(eye((m)))\n",
    "    for j in range(m):\n",
    "        diffMat = testPoint - xMat[j, :] \n",
    "        weights[j ,j] = exp(diffMat * diffMat.T / (-2.0 * k ** 2))\n",
    "    xTx = xMat.T * weights * xMat\n",
    "    if linalg.det(xTx) == 0.0:\n",
    "        print('奇异矩阵，不能求逆')\n",
    "        return\n",
    "    ws = xTx.I * xMat.T * weights * yMat\n",
    "    return testPoint * ws\n",
    "\n",
    "def lwlrTest(testArr, xArr, yArr, k=1.0):\n",
    "    '''\n",
    "    返回行数组,形状是(x,)\n",
    "    '''\n",
    "    m = shape(testArr)[0]  ##这里注意，list没有shape属性。但是用shape(list)就可以\n",
    "    yHat = zeros((m))\n",
    "    for i in range(m):\n",
    "        yHat[i] = lwlr(testArr[i], xArr, yArr, k)\n",
    "    return yHat"
   ]
  },
  {
   "cell_type": "code",
   "execution_count": 77,
   "metadata": {},
   "outputs": [
    {
     "name": "stdout",
     "output_type": "stream",
     "text": [
      "[[1.0, 0.067732], [1.0, 0.42781], [1.0, 0.995731], [1.0, 0.738336], [1.0, 0.981083], [1.0, 0.526171], [1.0, 0.378887], [1.0, 0.033859], [1.0, 0.132791], [1.0, 0.138306], [1.0, 0.247809], [1.0, 0.64827], [1.0, 0.731209], [1.0, 0.236833], [1.0, 0.969788], [1.0, 0.607492], [1.0, 0.358622], [1.0, 0.147846], [1.0, 0.63782], [1.0, 0.230372], [1.0, 0.070237], [1.0, 0.067154], [1.0, 0.925577], [1.0, 0.717733], [1.0, 0.015371], [1.0, 0.33507], [1.0, 0.040486], [1.0, 0.212575], [1.0, 0.617218], [1.0, 0.541196], [1.0, 0.045353], [1.0, 0.126762], [1.0, 0.556486], [1.0, 0.901144], [1.0, 0.958476], [1.0, 0.274561], [1.0, 0.394396], [1.0, 0.87248], [1.0, 0.409932], [1.0, 0.908969], [1.0, 0.166819], [1.0, 0.665016], [1.0, 0.263727], [1.0, 0.231214], [1.0, 0.552928], [1.0, 0.047744], [1.0, 0.365746], [1.0, 0.495002], [1.0, 0.493466], [1.0, 0.792101], [1.0, 0.76966], [1.0, 0.251821], [1.0, 0.181951], [1.0, 0.808177], [1.0, 0.334116], [1.0, 0.33863], [1.0, 0.452584], [1.0, 0.69477], [1.0, 0.590902], [1.0, 0.307928], [1.0, 0.148364], [1.0, 0.70218], [1.0, 0.721544], [1.0, 0.666886], [1.0, 0.124931], [1.0, 0.618286], [1.0, 0.381086], [1.0, 0.385643], [1.0, 0.777175], [1.0, 0.116089], [1.0, 0.115487], [1.0, 0.66351], [1.0, 0.254884], [1.0, 0.993888], [1.0, 0.295434], [1.0, 0.952523], [1.0, 0.307047], [1.0, 0.277261], [1.0, 0.279101], [1.0, 0.175724], [1.0, 0.156383], [1.0, 0.733165], [1.0, 0.848142], [1.0, 0.771184], [1.0, 0.429492], [1.0, 0.162176], [1.0, 0.917064], [1.0, 0.315044], [1.0, 0.201473], [1.0, 0.297038], [1.0, 0.336647], [1.0, 0.666109], [1.0, 0.583888], [1.0, 0.085031], [1.0, 0.687006], [1.0, 0.949655], [1.0, 0.189912], [1.0, 0.844027], [1.0, 0.333288], [1.0, 0.427035], [1.0, 0.466369], [1.0, 0.550659], [1.0, 0.278213], [1.0, 0.918769], [1.0, 0.886555], [1.0, 0.569488], [1.0, 0.066379], [1.0, 0.335751], [1.0, 0.426863], [1.0, 0.395746], [1.0, 0.694221], [1.0, 0.27276], [1.0, 0.503495], [1.0, 0.067119], [1.0, 0.038326], [1.0, 0.599122], [1.0, 0.947054], [1.0, 0.671279], [1.0, 0.434811], [1.0, 0.509381], [1.0, 0.749442], [1.0, 0.058014], [1.0, 0.482978], [1.0, 0.466776], [1.0, 0.357767], [1.0, 0.949123], [1.0, 0.41732], [1.0, 0.920461], [1.0, 0.156433], [1.0, 0.656662], [1.0, 0.616418], [1.0, 0.853428], [1.0, 0.133295], [1.0, 0.693007], [1.0, 0.178449], [1.0, 0.199526], [1.0, 0.073224], [1.0, 0.286515], [1.0, 0.182026], [1.0, 0.621523], [1.0, 0.344584], [1.0, 0.398556], [1.0, 0.480369], [1.0, 0.15335], [1.0, 0.171846], [1.0, 0.867082], [1.0, 0.223855], [1.0, 0.528301], [1.0, 0.890192], [1.0, 0.106352], [1.0, 0.917886], [1.0, 0.014855], [1.0, 0.567682], [1.0, 0.068854], [1.0, 0.603535], [1.0, 0.53205], [1.0, 0.651362], [1.0, 0.901225], [1.0, 0.204337], [1.0, 0.696081], [1.0, 0.963924], [1.0, 0.98139], [1.0, 0.987911], [1.0, 0.990947], [1.0, 0.736021], [1.0, 0.253574], [1.0, 0.674722], [1.0, 0.939368], [1.0, 0.235419], [1.0, 0.110521], [1.0, 0.218023], [1.0, 0.869778], [1.0, 0.19683], [1.0, 0.958178], [1.0, 0.972673], [1.0, 0.745797], [1.0, 0.445674], [1.0, 0.470557], [1.0, 0.549236], [1.0, 0.335691], [1.0, 0.884739], [1.0, 0.918916], [1.0, 0.441815], [1.0, 0.116598], [1.0, 0.359274], [1.0, 0.814811], [1.0, 0.387125], [1.0, 0.982243], [1.0, 0.78088], [1.0, 0.652565], [1.0, 0.87003], [1.0, 0.604755], [1.0, 0.255212], [1.0, 0.730546], [1.0, 0.493829], [1.0, 0.257017], [1.0, 0.833735], [1.0, 0.070095], [1.0, 0.52707], [1.0, 0.116163]]\n",
      "<class 'list'>\n",
      "(200, 2)\n",
      "[3.176513, 3.816464, 4.550095, 4.256571, 4.560815, 3.929515, 3.52617, 3.156393, 3.110301, 3.149813, 3.476346, 4.119688, 4.282233, 3.486582, 4.655492, 3.965162, 3.5149, 3.125947, 4.094115, 3.476039, 3.21061, 3.190612, 4.631504, 4.29589, 3.085028, 3.44808, 3.16744, 3.364266, 3.993482, 3.891471, 3.143259, 3.114204, 3.851484, 4.621899, 4.580768, 3.620992, 3.580501, 4.618706, 3.676867, 4.641845, 3.175939, 4.26498, 3.558448, 3.436632, 3.831052, 3.182853, 3.498906, 3.946833, 3.900583, 4.238522, 4.23308, 3.521557, 3.203344, 4.278105, 3.555705, 3.502661, 3.859776, 4.275956, 3.916191, 3.587961, 3.183004, 4.225236, 4.231083, 4.240544, 3.222372, 4.021445, 3.567479, 3.56258, 4.262059, 3.208813, 3.169825, 4.193949, 3.491678, 4.533306, 3.550108, 4.636427, 3.557078, 3.552874, 3.494159, 3.206828, 3.195266, 4.221292, 4.413372, 4.184347, 3.742878, 3.201878, 4.648964, 3.510117, 3.274434, 3.579622, 3.489244, 4.237386, 3.913749, 3.22899, 4.286286, 4.628614, 3.239536, 4.457997, 3.513384, 3.729674, 3.834274, 3.811155, 3.598316, 4.692514, 4.604859, 3.864912, 3.184236, 3.500796, 3.743365, 3.622905, 4.310796, 3.583357, 3.901852, 3.233521, 3.105266, 3.865544, 4.628625, 4.231213, 3.791149, 3.968271, 4.25391, 3.19471, 3.996503, 3.904358, 3.503976, 4.557545, 3.699876, 4.613614, 3.140401, 4.206717, 3.969524, 4.476096, 3.136528, 4.279071, 3.200603, 3.299012, 3.209873, 3.632942, 3.248361, 3.995783, 3.563262, 3.649712, 3.951845, 3.145031, 3.181577, 4.637087, 3.404964, 3.873188, 4.633648, 3.154768, 4.623637, 3.078132, 3.913596, 3.221817, 3.938071, 3.880822, 4.176436, 4.648161, 3.332312, 4.240614, 4.532224, 4.557105, 4.610072, 4.636569, 4.229813, 3.50086, 4.245514, 4.605182, 3.45434, 3.180775, 3.38082, 4.56502, 3.279973, 4.554241, 4.63352, 4.281037, 3.844426, 3.891601, 3.849728, 3.492215, 4.592374, 4.632025, 3.75675, 3.133555, 3.567919, 4.363382, 3.560165, 4.564305, 4.215055, 4.174999, 4.58664, 3.960008, 3.529963, 4.213412, 3.908685, 3.585821, 4.374394, 3.213817, 3.952681, 3.129283]\n",
      "<class 'list'>\n",
      "(200,)\n"
     ]
    }
   ],
   "source": [
    "print(xArr)\n",
    "print(type(xArr))\n",
    "print(shape(xArr))\n",
    "print(yArr)\n",
    "print(type(yArr))\n",
    "print(shape(yArr))"
   ]
  },
  {
   "cell_type": "code",
   "execution_count": 83,
   "metadata": {},
   "outputs": [
    {
     "data": {
      "text/plain": [
       "matrix([[3.12204471]])"
      ]
     },
     "execution_count": 83,
     "metadata": {},
     "output_type": "execute_result"
    }
   ],
   "source": [
    "lwlr(xArr[0], xArr, yArr, 1.0)"
   ]
  },
  {
   "cell_type": "code",
   "execution_count": 72,
   "metadata": {},
   "outputs": [
    {
     "data": {
      "text/plain": [
       "matrix([[3.20175729]])"
      ]
     },
     "execution_count": 72,
     "metadata": {},
     "output_type": "execute_result"
    }
   ],
   "source": [
    "lwlr(xArr[0], xArr, yArr, 0.001)"
   ]
  },
  {
   "cell_type": "code",
   "execution_count": 81,
   "metadata": {},
   "outputs": [
    {
     "name": "stdout",
     "output_type": "stream",
     "text": [
      "[3.14971201 3.72900133 4.63630691 4.27070271 4.62994241 3.89713164\n",
      " 3.64442421 3.12383051 3.22569271 3.23375663 3.42112184 4.11106283\n",
      " 4.25831517 3.40164087 4.62288421 4.03764101 3.60989382 3.2482244\n",
      " 4.09215715 3.39011695 3.1519663  3.1491991  4.57864059 4.23482271\n",
      " 3.11264708 3.57019624 3.12828104 3.35829978 4.05502756 3.92258965\n",
      " 3.13172356 3.21714437 3.94864482 4.54505554 4.61398242 3.46786051\n",
      " 3.67110151 4.50046919 3.69798483 4.5563555  3.27871494 4.14130617\n",
      " 3.44907333 3.39162048 3.94256339 3.13347204 3.62198828 3.84438747\n",
      " 3.8417812  4.36387999 4.32501649 3.42820363 3.30433993 4.39167433\n",
      " 3.56859482 3.57617521 3.7718675  4.19445457 4.00828198 3.52463471\n",
      " 3.24902781 4.20753829 4.24147777 4.14467275 3.21460531 4.05694353\n",
      " 3.64819444 3.6560211  4.33803495 3.20273091 3.20194621 4.13859291\n",
      " 3.43359422 4.6356797  3.50353664 4.60858874 3.52315147 3.47251227\n",
      " 3.47567563 3.29367881 3.2616833  4.26171693 4.46009136 4.32765677\n",
      " 3.7319188  3.27106458 4.56753034 3.53659745 3.33853268 3.50625395\n",
      " 3.57284416 4.14327426 3.99599255 3.16635007 4.18067975 4.60582215\n",
      " 3.31816388 4.45313109 3.56720514 3.72765689 3.79556952 3.93869151\n",
      " 3.47414964 4.56981072 4.52289698 3.97098786 3.14851561 3.57133959\n",
      " 3.7273585  3.67343233 4.1934828  3.46475098 3.85877974 3.14916813\n",
      " 3.1268014  4.02277865 4.60322103 4.15256966 3.7411402  3.86873997\n",
      " 4.28997558 3.14144009 3.82395096 3.79626731 3.60844541 4.60529719\n",
      " 3.71079962 4.57204703 3.26176344 4.12623595 4.05359319 4.46898643\n",
      " 3.22642012 4.19133271 3.29832604 3.33508323 3.15472174 3.48836897\n",
      " 3.30446921 4.06275788 3.58618854 3.67828759 3.81950515 3.2568496\n",
      " 3.28711824 4.49165872 3.37846829 3.90073543 4.52853831 3.19041945\n",
      " 4.56863307 3.11235688 3.96787204 3.15071539 4.03060238 3.90708171\n",
      " 4.11665585 4.5451748  3.34361775 4.19677377 4.61849413 4.63010822\n",
      " 4.63330229 4.63457558 4.26668108 3.4312905  4.15874611 4.59504014\n",
      " 3.39912172 3.19559085 3.36803709 4.49607156 3.33031823 4.61372382\n",
      " 4.62486342 4.28365327 3.75994026 3.80274411 3.93626563 3.57123885\n",
      " 4.52005427 4.57000608 3.75326782 3.20339679 3.61099878 4.40311895\n",
      " 3.65857023 4.63056163 4.34445213 4.11883126 4.49648279 4.03277019\n",
      " 3.43417061 4.25716173 3.84239724 3.43733948 4.43561234 3.15183714\n",
      " 3.89865254 3.20282758]\n",
      "<class 'numpy.ndarray'>\n",
      "(200,)\n",
      "(200,)\n"
     ]
    }
   ],
   "source": [
    "yHat = lwlrTest(xArr, xArr, yArr, 0.1)\n",
    "print(yHat)\n",
    "print(type(yHat))\n",
    "print(shape(yHat))\n",
    "print(shape(yHat.T))"
   ]
  },
  {
   "cell_type": "code",
   "execution_count": 10,
   "metadata": {},
   "outputs": [
    {
     "data": {
      "text/plain": [
       "<matplotlib.collections.PathCollection at 0x2230684cdd8>"
      ]
     },
     "execution_count": 10,
     "metadata": {},
     "output_type": "execute_result"
    },
    {
     "data": {
      "image/png": "[encoded data removed]",
      "text/plain": [
       "<Figure size 432x288 with 1 Axes>"
      ]
     },
     "metadata": {},
     "output_type": "display_data"
    }
   ],
   "source": [
    "#这一块用来画图，可以当做一个函数\n",
    "xMat = mat(xArr)\n",
    "srtInd = xMat[:, 1].argsort(0)\n",
    "xSort = xMat[srtInd][:, 0, :]\n",
    "fig = plt.figure()\n",
    "ax = fig.add_subplot(111)\n",
    "ax.plot(xSort[:, 1], yHat[srtInd])\n",
    "ax.scatter(xMat[:, 1].flatten().A[0], yMat.T.flatten().A[0], s=2, c='red')"
   ]
  },
  {
   "cell_type": "markdown",
   "metadata": {},
   "source": [
    "## 预测鲍鱼年龄"
   ]
  },
  {
   "cell_type": "code",
   "execution_count": 11,
   "metadata": {},
   "outputs": [],
   "source": [
    "def rssError(yArr, yHatArr):\n",
    "    return ((yArr - yHatArr) ** 2.0) .sum()"
   ]
  },
  {
   "cell_type": "code",
   "execution_count": 12,
   "metadata": {},
   "outputs": [],
   "source": [
    "abX, abY = loadDataSet('abalone.txt')"
   ]
  },
  {
   "cell_type": "code",
   "execution_count": 86,
   "metadata": {},
   "outputs": [],
   "source": [
    "yHat01 = lwlrTest(abX[0:99], abX[0:99], abY[0:99], 0.1)\n",
    "yHat1 = lwlrTest(abX[0:99], abX[0:99], abY[0:99], 1)\n",
    "yHat10 = lwlrTest(abX[0:99], abX[0:99], abY[0:99], 10)"
   ]
  },
  {
   "cell_type": "code",
   "execution_count": 88,
   "metadata": {},
   "outputs": [
    {
     "name": "stdout",
     "output_type": "stream",
     "text": [
      "56.81549669032892\n",
      "429.8905618702056\n",
      "549.1181708826584\n"
     ]
    }
   ],
   "source": [
    "print(rssError(abY[0:99], yHat01))\n",
    "print(rssError(abY[0:99], yHat1))\n",
    "print(rssError(abY[0:99], yHat10))"
   ]
  },
  {
   "cell_type": "markdown",
   "metadata": {},
   "source": [
    "###   以下结果k取1和10的时候，误差和书上相同，取0.1就和书上相差很大  p145"
   ]
  },
  {
   "cell_type": "code",
   "execution_count": 127,
   "metadata": {},
   "outputs": [],
   "source": [
    "def lwlr(testPoint,xArr,yArr,k=1.0):\n",
    "    xMat = mat(xArr); yMat = mat(yArr).T\n",
    "    m = shape(xMat)[0]\n",
    "    weights = mat(eye((m)))\n",
    "    for j in range(m):                      #next 2 lines create weights matrix\n",
    "        diffMat = testPoint - xMat[j,:]     #\n",
    "        weights[j,j] = exp(diffMat*diffMat.T/(-2.0*k**2))\n",
    "    xTx = xMat.T * (weights * xMat)\n",
    "    if linalg.det(xTx) == 0.0:\n",
    "        print(\"This matrix is singular, cannot do inverse\")\n",
    "        return\n",
    "    ws = xTx.I * (xMat.T * (weights * yMat))\n",
    "    return testPoint * ws\n",
    "\n",
    "def lwlrTest(testArr,xArr,yArr,k=1.0):  #loops over all the data points and applies lwlr to each one\n",
    "    m = shape(testArr)[0]\n",
    "    yHat = zeros(m)\n",
    "    for i in range(m):\n",
    "        yHat[i] = lwlr(testArr[i],xArr,yArr,k)\n",
    "    return yHat"
   ]
  },
  {
   "cell_type": "code",
   "execution_count": 128,
   "metadata": {},
   "outputs": [],
   "source": [
    "def lwlrxxxxxxxx(testPoint, xArr, yArr, k=1.0):\n",
    "    '''\n",
    "    返回预测值，矩阵形式，一个值\n",
    "    '''\n",
    "    xMat = mat(xArr)\n",
    "    yMat = mat(yArr).T\n",
    "    m = shape(xMat)[0]\n",
    "    weights = mat(eye((m)))\n",
    "    for j in range(m):\n",
    "        diffMat = testPoint - xMat[j, :] \n",
    "        weights[j ,j] = exp(diffMat * diffMat.T / (-2.0 * k ** 2))\n",
    "    xTx = xMat.T * weights * xMat  #这里没有添加括号\n",
    "    if linalg.det(xTx) == 0.0:\n",
    "        print('奇异矩阵，不能求逆')\n",
    "        return\n",
    "    ws = xTx.I * xMat.T * weights * yMat  #这里没有添加括号\n",
    "    return testPoint * ws\n",
    "\n",
    "def lwlrTestxxxxxxx(testArr, xArr, yArr, k=1.0):\n",
    "    '''\n",
    "    返回行数组,形状是(x,)\n",
    "    '''\n",
    "    m = shape(testArr)[0]  \n",
    "    yHat = zeros(m)\n",
    "    for i in range(m):\n",
    "        yHat[i] = lwlrxxxxxxxx(testArr[i], xArr, yArr, k)\n",
    "    return yHat"
   ]
  },
  {
   "cell_type": "markdown",
   "metadata": {},
   "source": [
    "## 这个地方要超级注意，我比对了半天，最终发现是因为括号！！！！！\n",
    "## 矩阵运算就算先后顺序一样，加了括号结果也会不一样！！！！！！\n",
    "## 很巧的是就0.1出现了大的错误，k取其他值误差结果基本和书上一样！！！！\n",
    "## 详情看下面对比"
   ]
  },
  {
   "cell_type": "code",
   "execution_count": 129,
   "metadata": {},
   "outputs": [
    {
     "name": "stdout",
     "output_type": "stream",
     "text": [
      "[  7.6797586    8.54088168  11.60818302   9.4653089   10.7486784\n",
      "   9.01133495  10.07827028  11.24803291  10.2005939    3.80888833\n",
      "   6.48750884   9.28728759   4.77263605  11.90082977  11.78085327\n",
      "   8.81353682  12.02194874   9.53661134  14.76918673   7.30716339\n",
      "   7.37574709   6.09302207  11.33495456   7.22014561   3.73300219\n",
      "   5.48044416   7.56878179   5.58669479  10.5650303  -11.974\n",
      "  16.06639358  10.53760126  19.59406897   8.49206092   5.17689339\n",
      "   9.83748458  18.87796175   5.74534334  10.68544675  10.30899728\n",
      "   7.54853702   6.60508212  12.12473984   8.41176702   8.21639017\n",
      "   8.6427194   10.21387014   7.18571033   2.55059494   3.64308604\n",
      "   9.86770181  14.76192007   9.5294734   11.61300972  20.94459413\n",
      "  11.56547256  10.82540062   0.99557461   9.83285543  13.4275699\n",
      "  13.46728567  13.1942776   12.05656009 -34.752      -37.38976813\n",
      " 117.464        5.812      -28.37074219  -2.908      -46.51330027\n",
      "  13.56        16.11175752  11.35981737  15.55443652   4.97178103\n",
      "   8.33338846   8.07968907   6.60500561   4.91772832  11.49723302\n",
      "   7.63941571  16.4176077   11.75373654  12.68961052  19.4622663\n",
      "  11.35083215   3.68756815  11.35143943   8.60245723   5.37629677\n",
      "   7.61761218  14.26257389  13.65926701  -1.70639944  12.1268833\n",
      "  13.07752611   6.83576693  10.24362983   9.45745961]\n",
      "25119.459111157415\n"
     ]
    }
   ],
   "source": [
    "yHat01 = lwlrTest(abX[100:199], abX[0:99], abY[0:99], 0.1)\n",
    "print(yHat01)\n",
    "print(rssError(abY[100:199], yHat01))"
   ]
  },
  {
   "cell_type": "code",
   "execution_count": 133,
   "metadata": {},
   "outputs": [
    {
     "name": "stdout",
     "output_type": "stream",
     "text": [
      "[   7.6797586     8.54088168   11.60818302    9.4653089    10.7486784\n",
      "    9.01133495   10.07827028   11.24803291   10.2005939     3.80888833\n",
      "    6.48750884    9.28728759    4.77263605   11.90082977   11.78085327\n",
      "    8.81353682   12.02194874    9.53661134   14.76918673    7.30716339\n",
      "    7.37574709    6.09302207   11.33495456    7.22014561    3.73300219\n",
      "    5.48044416    7.56878179    5.58669479   10.5648306    38.12508639\n",
      "   16.06639358   10.53760126   19.59406897    8.49206092    5.17689339\n",
      "    9.83748458   18.87796176    5.74534334   10.68544675   10.30899728\n",
      "    7.54853702    6.60508212   12.12473984    8.41176702    8.21639017\n",
      "    8.6427194    10.21387014    7.18571033    2.55059494    3.64308604\n",
      "    9.86770181   14.76192007    9.5294734    11.61300972   20.94459413\n",
      "   11.56547256   10.82540062    0.99557454    9.83285543   13.4275699\n",
      "   13.46728567   13.1942776    12.05656009   35.38748664  -37.39352752\n",
      " -129.14991004   41.93753118  -28.27622611   68.41836262  -46.51329948\n",
      "  -62.02683546   16.11175752   11.35981737   15.55443652    4.97178103\n",
      "    8.33338846    8.07968907    6.60500561    4.91772832   11.49723302\n",
      "    7.63941571   16.4176077    11.75373654   12.68961052   19.46226629\n",
      "   11.35083215    3.68756815   11.35143943    8.60245723    5.37629677\n",
      "    7.61761218   14.26257389   13.65926701   -1.70639944   12.1268833\n",
      "   13.07752611    6.83576693   10.24362983    9.45745961]\n",
      "40659.27596541478\n"
     ]
    }
   ],
   "source": [
    "yHat01xxx = lwlrTestxxxxxxx(abX[100:199], abX[0:99], abY[0:99], 0.1)\n",
    "print(yHat01xxx)\n",
    "print(rssError(abY[100:199], yHat01xxx.T))"
   ]
  },
  {
   "cell_type": "code",
   "execution_count": 135,
   "metadata": {},
   "outputs": [
    {
     "data": {
      "text/plain": [
       "573.5261441898057"
      ]
     },
     "execution_count": 135,
     "metadata": {},
     "output_type": "execute_result"
    }
   ],
   "source": [
    "yHat1xxxxxxx = lwlrTestxxxxxxx(abX[100:199], abX[0:99], abY[0:99], 1)\n",
    "rssError(abY[100:199], yHat1xxxxxxx.T)"
   ]
  },
  {
   "cell_type": "code",
   "execution_count": 134,
   "metadata": {},
   "outputs": [
    {
     "data": {
      "text/plain": [
       "573.5261441895706"
      ]
     },
     "execution_count": 134,
     "metadata": {},
     "output_type": "execute_result"
    }
   ],
   "source": [
    "yHat1 = lwlrTest(abX[100:199], abX[0:99], abY[0:99], 1)\n",
    "rssError(abY[100:199], yHat1.T)"
   ]
  },
  {
   "cell_type": "code",
   "execution_count": 103,
   "metadata": {},
   "outputs": [
    {
     "data": {
      "text/plain": [
       "517.5711905381745"
      ]
     },
     "execution_count": 103,
     "metadata": {},
     "output_type": "execute_result"
    }
   ],
   "source": [
    "yHat10 = lwlrTest(abX[100:199], abX[0:99], abY[0:99], 10)\n",
    "rssError(abY[100:199], yHat10.T)"
   ]
  },
  {
   "cell_type": "code",
   "execution_count": 136,
   "metadata": {},
   "outputs": [
    {
     "data": {
      "text/plain": [
       "517.5711905382693"
      ]
     },
     "execution_count": 136,
     "metadata": {},
     "output_type": "execute_result"
    }
   ],
   "source": [
    "yHat10xxxxxxx = lwlrTestxxxxxxx(abX[100:199], abX[0:99], abY[0:99], 10)\n",
    "rssError(abY[100:199], yHat10xxxxxxx.T)"
   ]
  },
  {
   "cell_type": "code",
   "execution_count": 92,
   "metadata": {},
   "outputs": [
    {
     "data": {
      "text/plain": [
       "518.6363153250693"
      ]
     },
     "execution_count": 92,
     "metadata": {},
     "output_type": "execute_result"
    }
   ],
   "source": [
    "ws = standRegres(abX[0:99], abY[0:99])\n",
    "yHat = mat(abX[100:199]) * ws\n",
    "rssError(array(abY[100:199]), yHat.T.A)"
   ]
  },
  {
   "cell_type": "markdown",
   "metadata": {},
   "source": [
    "## 岭回归"
   ]
  },
  {
   "cell_type": "code",
   "execution_count": 17,
   "metadata": {},
   "outputs": [],
   "source": [
    "def ridgeRegres(xMat, yMat, lam=0.2):\n",
    "    xTx = xMat.T * xMat\n",
    "    denom = xTx + eye((xMat.shape[1])) * lam\n",
    "    if linalg.det(denom) == 0.0:\n",
    "        print('矩阵为奇异矩阵，不能求逆')\n",
    "        return \n",
    "    ws = denom.I * xMat.T * yMat  #ws是列向量\n",
    "    return ws"
   ]
  },
  {
   "cell_type": "code",
   "execution_count": 18,
   "metadata": {},
   "outputs": [],
   "source": [
    "def ridgeTest(xArr, yArr):\n",
    "    xMat = mat(xArr)\n",
    "    yMat = mat(yArr).T\n",
    "    yMean = mean(yMat, 0)\n",
    "    yMat = yMat - yMean\n",
    "    xMeans = mean(xMat, 0)\n",
    "    xVar = var(xMat, 0)\n",
    "    xMat = (xMat - xMeans) / xVar\n",
    "    numTestPts = 30\n",
    "    wMat = zeros((numTestPts, xMat.shape[1]))\n",
    "    for i in range(numTestPts):\n",
    "        ws = ridgeRegres(xMat, yMat, exp(i-10))\n",
    "        wMat[i, :] = ws.T  #每一个lam对应一行ws\n",
    "    return wMat"
   ]
  },
  {
   "cell_type": "code",
   "execution_count": 19,
   "metadata": {},
   "outputs": [],
   "source": [
    "abX, abY = loadDataSet('abalone.txt')\n",
    "ridgeWeights = ridgeTest(abX, abY)"
   ]
  },
  {
   "cell_type": "code",
   "execution_count": 20,
   "metadata": {},
   "outputs": [
    {
     "data": {
      "text/plain": [
       "[<matplotlib.lines.Line2D at 0x22306a642e8>,\n",
       " <matplotlib.lines.Line2D at 0x22306a64438>,\n",
       " <matplotlib.lines.Line2D at 0x22306a64588>,\n",
       " <matplotlib.lines.Line2D at 0x22306a646d8>,\n",
       " <matplotlib.lines.Line2D at 0x22306a64828>,\n",
       " <matplotlib.lines.Line2D at 0x22306a64978>,\n",
       " <matplotlib.lines.Line2D at 0x22306a64ac8>,\n",
       " <matplotlib.lines.Line2D at 0x22306a64c18>]"
      ]
     },
     "execution_count": 20,
     "metadata": {},
     "output_type": "execute_result"
    },
    {
     "data": {
      "image/png": "[encoded data removed]",
      "text/plain": [
       "<Figure size 432x288 with 1 Axes>"
      ]
     },
     "metadata": {},
     "output_type": "display_data"
    }
   ],
   "source": [
    "fig = plt.figure()\n",
    "ax = fig.add_subplot(111)\n",
    "ax.plot(ridgeWeights)"
   ]
  },
  {
   "cell_type": "markdown",
   "metadata": {},
   "source": [
    "## 选择合适的lam就要用交叉验证"
   ]
  },
  {
   "cell_type": "markdown",
   "metadata": {},
   "source": [
    "# 与lasso效果差不多的前向逐步回归算法"
   ]
  },
  {
   "cell_type": "code",
   "execution_count": 21,
   "metadata": {},
   "outputs": [],
   "source": [
    "def stageWise(xArr, yArr, eps=0.01, numIt=100):\n",
    "    xMat = mat(xArr)\n",
    "    yMat = mat(yArr).T\n",
    "    yMean = mean(yMat, 0)\n",
    "    yMat = yMat - yMean\n",
    "    xMat = (xMat - mean(xMat, 0)) / var(xMat, 0)\n",
    "    m, n = xMat.shape\n",
    "    returnMat = zeros((numIt, n))\n",
    "    ws = zeros((n, 1))\n",
    "    wsTest = ws.copy()\n",
    "    wsMax = ws.copy()\n",
    "    for i in range(numIt):\n",
    "        print(ws.T)\n",
    "        lowestError = inf\n",
    "        for j in range(n):\n",
    "            for sign in [-1, 1]:\n",
    "                wsTest = ws.copy()\n",
    "                wsTest[j] += eps * sign\n",
    "                yTest = xMat * wsTest\n",
    "                rssE = rssError(yMat.A, yTest.A)\n",
    "                if rssE < lowestError:\n",
    "                    lowestError = rssE\n",
    "                    wsMax = wsTest\n",
    "        ws = wsMax.copy()\n",
    "        returnMat[i, :] = ws.T\n",
    "    return returnMat"
   ]
  },
  {
   "cell_type": "code",
   "execution_count": 22,
   "metadata": {},
   "outputs": [
    {
     "name": "stdout",
     "output_type": "stream",
     "text": [
      "[[0. 0. 0. 0. 0. 0. 0. 0.]]\n",
      "[[0.   0.   0.   0.01 0.   0.   0.   0.  ]]\n",
      "[[0.   0.   0.   0.02 0.   0.   0.   0.  ]]\n",
      "[[0.   0.   0.   0.03 0.   0.   0.   0.  ]]\n",
      "[[0.   0.   0.   0.04 0.   0.   0.   0.  ]]\n",
      "[[0.   0.   0.   0.05 0.   0.   0.   0.  ]]\n",
      "[[0.   0.   0.   0.06 0.   0.   0.   0.  ]]\n",
      "[[0.   0.   0.01 0.06 0.   0.   0.   0.  ]]\n",
      "[[0.   0.   0.01 0.06 0.   0.   0.   0.01]]\n",
      "[[0.   0.   0.01 0.06 0.   0.   0.   0.02]]\n",
      "[[0.   0.   0.01 0.06 0.   0.   0.   0.03]]\n",
      "[[0.   0.   0.01 0.06 0.   0.   0.   0.04]]\n",
      "[[0.   0.   0.01 0.06 0.   0.   0.   0.05]]\n",
      "[[0.   0.   0.01 0.06 0.   0.   0.   0.06]]\n",
      "[[0.   0.   0.01 0.06 0.   0.   0.   0.07]]\n",
      "[[0.   0.   0.01 0.06 0.   0.   0.   0.08]]\n",
      "[[0.   0.   0.01 0.05 0.   0.   0.   0.08]]\n",
      "[[0.   0.   0.01 0.05 0.   0.   0.   0.09]]\n",
      "[[0.   0.   0.01 0.05 0.   0.   0.   0.1 ]]\n",
      "[[0.   0.   0.01 0.05 0.   0.   0.   0.11]]\n",
      "[[ 0.    0.    0.01  0.05  0.   -0.01  0.    0.11]]\n",
      "[[ 0.    0.    0.01  0.05  0.   -0.02  0.    0.11]]\n",
      "[[ 0.    0.    0.01  0.05  0.   -0.02  0.    0.12]]\n",
      "[[ 0.    0.    0.01  0.05  0.   -0.03  0.    0.12]]\n",
      "[[ 0.    0.    0.01  0.05  0.   -0.03  0.    0.13]]\n",
      "[[ 0.    0.    0.01  0.05  0.   -0.04  0.    0.13]]\n",
      "[[ 0.    0.    0.01  0.05  0.   -0.05  0.    0.13]]\n",
      "[[ 0.    0.    0.01  0.05  0.   -0.05  0.    0.14]]\n",
      "[[ 0.    0.    0.01  0.05  0.   -0.06  0.    0.14]]\n",
      "[[ 0.    0.    0.01  0.05  0.   -0.07  0.    0.14]]\n",
      "[[ 0.    0.    0.01  0.05  0.   -0.07  0.    0.15]]\n",
      "[[ 0.    0.    0.01  0.05  0.   -0.08  0.    0.15]]\n",
      "[[ 0.    0.    0.01  0.05  0.   -0.08  0.    0.16]]\n",
      "[[ 0.    0.    0.01  0.05  0.   -0.09  0.    0.16]]\n",
      "[[ 0.    0.    0.01  0.05  0.   -0.1   0.    0.16]]\n",
      "[[ 0.    0.    0.01  0.05  0.   -0.1   0.    0.17]]\n",
      "[[ 0.    0.    0.01  0.05  0.   -0.11  0.    0.17]]\n",
      "[[ 0.    0.    0.01  0.05  0.   -0.12  0.    0.17]]\n",
      "[[ 0.    0.    0.01  0.05  0.   -0.12  0.    0.18]]\n",
      "[[ 0.    0.    0.01  0.05  0.   -0.13  0.    0.18]]\n",
      "[[ 0.    0.    0.01  0.05  0.   -0.13  0.    0.19]]\n",
      "[[ 0.    0.    0.01  0.05  0.   -0.14  0.    0.19]]\n",
      "[[ 0.    0.    0.01  0.05  0.   -0.15  0.    0.19]]\n",
      "[[ 0.    0.    0.01  0.05  0.   -0.15  0.    0.2 ]]\n",
      "[[ 0.    0.    0.01  0.05  0.   -0.16  0.    0.2 ]]\n",
      "[[ 0.    0.    0.01  0.05  0.   -0.16  0.    0.21]]\n",
      "[[ 0.    0.    0.01  0.05  0.   -0.17  0.    0.21]]\n",
      "[[ 0.    0.    0.01  0.05  0.   -0.18  0.    0.21]]\n",
      "[[ 0.    0.    0.01  0.05  0.   -0.18  0.    0.22]]\n",
      "[[ 0.    0.    0.01  0.05  0.   -0.19  0.    0.22]]\n",
      "[[ 0.    0.    0.01  0.05  0.   -0.2   0.    0.22]]\n",
      "[[ 0.    0.    0.01  0.05  0.   -0.2   0.    0.23]]\n",
      "[[ 0.    0.    0.01  0.05  0.   -0.21  0.    0.23]]\n",
      "[[ 0.    0.    0.01  0.05  0.   -0.21  0.    0.24]]\n",
      "[[ 0.    0.    0.01  0.05  0.   -0.22  0.    0.24]]\n",
      "[[ 0.    0.    0.01  0.05  0.   -0.23  0.    0.24]]\n",
      "[[ 0.    0.    0.01  0.05  0.   -0.23  0.    0.25]]\n",
      "[[ 0.    0.    0.01  0.05  0.   -0.24  0.    0.25]]\n",
      "[[ 0.    0.    0.01  0.05  0.   -0.25  0.    0.25]]\n",
      "[[ 0.    0.    0.02  0.05  0.   -0.25  0.    0.25]]\n",
      "[[ 0.    0.    0.02  0.04  0.   -0.25  0.    0.25]]\n",
      "[[ 0.    0.    0.03  0.04  0.   -0.25  0.    0.25]]\n",
      "[[ 0.    0.    0.03  0.04  0.   -0.25  0.    0.26]]\n",
      "[[ 0.    0.    0.03  0.04  0.   -0.26  0.    0.26]]\n",
      "[[ 0.    0.    0.03  0.04  0.   -0.26  0.    0.27]]\n",
      "[[ 0.    0.    0.03  0.04  0.   -0.27  0.    0.27]]\n",
      "[[ 0.    0.    0.03  0.04  0.   -0.28  0.    0.27]]\n",
      "[[ 0.    0.    0.03  0.04  0.   -0.28  0.    0.28]]\n",
      "[[ 0.    0.    0.03  0.04  0.   -0.29  0.    0.28]]\n",
      "[[ 0.    0.    0.03  0.04  0.   -0.29  0.    0.29]]\n",
      "[[ 0.    0.    0.03  0.04  0.   -0.3   0.    0.29]]\n",
      "[[ 0.    0.    0.03  0.04  0.   -0.31  0.    0.29]]\n",
      "[[ 0.    0.    0.04  0.04  0.   -0.31  0.    0.29]]\n",
      "[[ 0.    0.    0.04  0.04  0.   -0.32  0.    0.29]]\n",
      "[[ 0.    0.    0.04  0.04  0.   -0.33  0.    0.29]]\n",
      "[[ 0.    0.    0.04  0.04  0.   -0.33  0.    0.3 ]]\n",
      "[[ 0.    0.    0.04  0.04  0.   -0.34  0.    0.3 ]]\n",
      "[[ 0.    0.    0.04  0.04  0.   -0.35  0.    0.3 ]]\n",
      "[[ 0.    0.    0.05  0.04  0.   -0.35  0.    0.3 ]]\n",
      "[[ 0.    0.    0.05  0.04  0.   -0.36  0.    0.3 ]]\n",
      "[[ 0.    0.    0.05  0.04  0.   -0.37  0.    0.3 ]]\n",
      "[[ 0.    0.    0.05  0.04  0.   -0.37  0.    0.31]]\n",
      "[[ 0.    0.    0.05  0.04  0.   -0.38  0.    0.31]]\n",
      "[[ 0.    0.    0.05  0.04  0.   -0.39  0.    0.31]]\n",
      "[[ 0.    0.    0.06  0.04  0.   -0.39  0.    0.31]]\n",
      "[[ 0.    0.    0.06  0.04  0.   -0.4   0.    0.31]]\n",
      "[[ 0.    0.    0.06  0.04  0.   -0.41  0.    0.31]]\n",
      "[[ 0.    0.    0.06  0.04  0.   -0.41  0.    0.32]]\n",
      "[[ 0.    0.    0.06  0.04  0.   -0.42  0.    0.32]]\n",
      "[[ 0.    0.    0.06  0.04  0.   -0.42  0.    0.33]]\n",
      "[[ 0.    0.    0.06  0.04  0.   -0.43  0.    0.33]]\n",
      "[[ 0.    0.    0.06  0.04  0.   -0.44  0.    0.33]]\n",
      "[[ 0.    0.    0.06  0.04  0.   -0.44  0.    0.34]]\n",
      "[[ 0.    0.    0.06  0.04  0.   -0.45  0.    0.34]]\n",
      "[[ 0.    0.    0.06  0.04  0.   -0.46  0.    0.34]]\n",
      "[[ 0.    0.    0.07  0.04  0.   -0.46  0.    0.34]]\n",
      "[[ 0.    0.    0.07  0.03  0.   -0.46  0.    0.34]]\n",
      "[[ 0.    0.    0.08  0.03  0.   -0.46  0.    0.34]]\n",
      "[[ 0.    0.    0.08  0.03  0.   -0.46  0.    0.35]]\n",
      "[[ 0.    0.    0.08  0.03  0.   -0.47  0.    0.35]]\n",
      "[[ 0.    0.    0.08  0.03  0.   -0.47  0.    0.36]]\n",
      "[[ 0.    0.    0.08  0.03  0.   -0.48  0.    0.36]]\n",
      "[[ 0.    0.    0.08  0.03  0.   -0.49  0.    0.36]]\n",
      "[[ 0.    0.    0.09  0.03  0.   -0.49  0.    0.36]]\n",
      "[[ 0.    0.    0.09  0.03  0.   -0.5   0.    0.36]]\n",
      "[[ 0.    0.    0.09  0.03  0.   -0.51  0.    0.36]]\n",
      "[[ 0.    0.    0.09  0.03  0.   -0.51  0.    0.37]]\n",
      "[[ 0.    0.    0.09  0.03  0.   -0.52  0.    0.37]]\n",
      "[[ 0.    0.    0.09  0.03  0.01 -0.52  0.    0.37]]\n",
      "[[ 0.01  0.    0.09  0.03  0.01 -0.52  0.    0.37]]\n",
      "[[ 0.01  0.    0.09  0.03  0.01 -0.53  0.    0.37]]\n",
      "[[ 0.01  0.    0.09  0.03  0.02 -0.53  0.    0.37]]\n",
      "[[ 0.01  0.    0.09  0.03  0.03 -0.53  0.    0.37]]\n",
      "[[ 0.01  0.    0.09  0.03  0.04 -0.53  0.    0.37]]\n",
      "[[ 0.01  0.    0.09  0.03  0.04 -0.54  0.    0.37]]\n",
      "[[ 0.01  0.    0.09  0.03  0.05 -0.54  0.    0.37]]\n",
      "[[ 0.01  0.    0.09  0.03  0.06 -0.54  0.    0.37]]\n",
      "[[ 0.01  0.    0.09  0.03  0.06 -0.55  0.    0.37]]\n",
      "[[ 0.01  0.    0.09  0.03  0.07 -0.55  0.    0.37]]\n",
      "[[ 0.01  0.    0.09  0.03  0.08 -0.55  0.    0.37]]\n",
      "[[ 0.01  0.    0.09  0.03  0.08 -0.56  0.    0.37]]\n",
      "[[ 0.01  0.    0.09  0.03  0.09 -0.56  0.    0.37]]\n",
      "[[ 0.01  0.    0.09  0.03  0.1  -0.56  0.    0.37]]\n",
      "[[ 0.02  0.    0.09  0.03  0.1  -0.56  0.    0.37]]\n",
      "[[ 0.02  0.    0.09  0.03  0.1  -0.57  0.    0.37]]\n",
      "[[ 0.02  0.    0.09  0.03  0.11 -0.57  0.    0.37]]\n",
      "[[ 0.02  0.    0.09  0.03  0.12 -0.57  0.    0.37]]\n",
      "[[ 0.02  0.    0.09  0.03  0.13 -0.57  0.    0.37]]\n",
      "[[ 0.02  0.    0.09  0.03  0.13 -0.58  0.    0.37]]\n",
      "[[ 0.02  0.    0.09  0.03  0.14 -0.58  0.    0.37]]\n",
      "[[ 0.02  0.    0.09  0.03  0.15 -0.58  0.    0.37]]\n",
      "[[ 0.02  0.    0.09  0.03  0.15 -0.59  0.    0.37]]\n",
      "[[ 0.02  0.    0.09  0.03  0.16 -0.59  0.    0.37]]\n",
      "[[ 0.02  0.    0.09  0.03  0.17 -0.59  0.    0.37]]\n",
      "[[ 0.02  0.    0.09  0.03  0.17 -0.6   0.    0.37]]\n",
      "[[ 0.02  0.    0.09  0.03  0.18 -0.6   0.    0.37]]\n",
      "[[ 0.02  0.    0.09  0.03  0.19 -0.6   0.    0.37]]\n",
      "[[ 0.03  0.    0.09  0.03  0.19 -0.6   0.    0.37]]\n",
      "[[ 0.03  0.    0.09  0.03  0.19 -0.61  0.    0.37]]\n",
      "[[ 0.03  0.    0.09  0.03  0.2  -0.61  0.    0.37]]\n",
      "[[ 0.03  0.    0.09  0.03  0.21 -0.61  0.    0.37]]\n",
      "[[ 0.04  0.    0.09  0.03  0.21 -0.61  0.    0.37]]\n",
      "[[ 0.04  0.    0.09  0.03  0.22 -0.61  0.    0.37]]\n",
      "[[ 0.04  0.    0.09  0.03  0.22 -0.62  0.    0.37]]\n",
      "[[ 0.04  0.    0.09  0.03  0.23 -0.62  0.    0.37]]\n",
      "[[ 0.04  0.    0.09  0.03  0.24 -0.62  0.    0.37]]\n",
      "[[ 0.04  0.    0.09  0.03  0.24 -0.63  0.    0.37]]\n",
      "[[ 0.04  0.    0.09  0.03  0.25 -0.63  0.    0.37]]\n",
      "[[ 0.04  0.    0.09  0.03  0.26 -0.63  0.    0.37]]\n",
      "[[ 0.04  0.    0.09  0.03  0.26 -0.63  0.    0.36]]\n",
      "[[ 0.04  0.    0.09  0.03  0.27 -0.63  0.    0.36]]\n",
      "[[ 0.04  0.    0.09  0.03  0.28 -0.63  0.    0.36]]\n",
      "[[ 0.04  0.    0.09  0.03  0.29 -0.63  0.    0.36]]\n",
      "[[ 0.04  0.    0.09  0.03  0.29 -0.64  0.    0.36]]\n",
      "[[ 0.04  0.    0.09  0.03  0.3  -0.64  0.    0.36]]\n",
      "[[ 0.04  0.    0.09  0.03  0.31 -0.64  0.    0.36]]\n",
      "[[ 0.05  0.    0.09  0.03  0.31 -0.64  0.    0.36]]\n",
      "[[ 0.04  0.    0.09  0.03  0.31 -0.64  0.    0.36]]\n",
      "[[ 0.05  0.    0.09  0.03  0.31 -0.64  0.    0.36]]\n",
      "[[ 0.04  0.    0.09  0.03  0.31 -0.64  0.    0.36]]\n",
      "[[ 0.05  0.    0.09  0.03  0.31 -0.64  0.    0.36]]\n",
      "[[ 0.04  0.    0.09  0.03  0.31 -0.64  0.    0.36]]\n",
      "[[ 0.05  0.    0.09  0.03  0.31 -0.64  0.    0.36]]\n",
      "[[ 0.04  0.    0.09  0.03  0.31 -0.64  0.    0.36]]\n"
     ]
    },
    {
     "name": "stdout",
     "output_type": "stream",
     "text": [
      "[[ 0.05  0.    0.09  0.03  0.31 -0.64  0.    0.36]]\n",
      "[[ 0.04  0.    0.09  0.03  0.31 -0.64  0.    0.36]]\n",
      "[[ 0.05  0.    0.09  0.03  0.31 -0.64  0.    0.36]]\n",
      "[[ 0.04  0.    0.09  0.03  0.31 -0.64  0.    0.36]]\n",
      "[[ 0.05  0.    0.09  0.03  0.31 -0.64  0.    0.36]]\n",
      "[[ 0.04  0.    0.09  0.03  0.31 -0.64  0.    0.36]]\n",
      "[[ 0.05  0.    0.09  0.03  0.31 -0.64  0.    0.36]]\n",
      "[[ 0.04  0.    0.09  0.03  0.31 -0.64  0.    0.36]]\n",
      "[[ 0.05  0.    0.09  0.03  0.31 -0.64  0.    0.36]]\n",
      "[[ 0.04  0.    0.09  0.03  0.31 -0.64  0.    0.36]]\n",
      "[[ 0.05  0.    0.09  0.03  0.31 -0.64  0.    0.36]]\n",
      "[[ 0.04  0.    0.09  0.03  0.31 -0.64  0.    0.36]]\n",
      "[[ 0.05  0.    0.09  0.03  0.31 -0.64  0.    0.36]]\n",
      "[[ 0.04  0.    0.09  0.03  0.31 -0.64  0.    0.36]]\n",
      "[[ 0.05  0.    0.09  0.03  0.31 -0.64  0.    0.36]]\n",
      "[[ 0.04  0.    0.09  0.03  0.31 -0.64  0.    0.36]]\n",
      "[[ 0.05  0.    0.09  0.03  0.31 -0.64  0.    0.36]]\n",
      "[[ 0.04  0.    0.09  0.03  0.31 -0.64  0.    0.36]]\n",
      "[[ 0.05  0.    0.09  0.03  0.31 -0.64  0.    0.36]]\n",
      "[[ 0.04  0.    0.09  0.03  0.31 -0.64  0.    0.36]]\n",
      "[[ 0.05  0.    0.09  0.03  0.31 -0.64  0.    0.36]]\n",
      "[[ 0.04  0.    0.09  0.03  0.31 -0.64  0.    0.36]]\n",
      "[[ 0.05  0.    0.09  0.03  0.31 -0.64  0.    0.36]]\n",
      "[[ 0.04  0.    0.09  0.03  0.31 -0.64  0.    0.36]]\n",
      "[[ 0.05  0.    0.09  0.03  0.31 -0.64  0.    0.36]]\n",
      "[[ 0.04  0.    0.09  0.03  0.31 -0.64  0.    0.36]]\n",
      "[[ 0.05  0.    0.09  0.03  0.31 -0.64  0.    0.36]]\n",
      "[[ 0.04  0.    0.09  0.03  0.31 -0.64  0.    0.36]]\n",
      "[[ 0.05  0.    0.09  0.03  0.31 -0.64  0.    0.36]]\n",
      "[[ 0.04  0.    0.09  0.03  0.31 -0.64  0.    0.36]]\n",
      "[[ 0.05  0.    0.09  0.03  0.31 -0.64  0.    0.36]]\n",
      "[[ 0.04  0.    0.09  0.03  0.31 -0.64  0.    0.36]]\n",
      "[[ 0.05  0.    0.09  0.03  0.31 -0.64  0.    0.36]]\n",
      "[[ 0.04  0.    0.09  0.03  0.31 -0.64  0.    0.36]]\n",
      "[[ 0.05  0.    0.09  0.03  0.31 -0.64  0.    0.36]]\n",
      "[[ 0.04  0.    0.09  0.03  0.31 -0.64  0.    0.36]]\n"
     ]
    },
    {
     "data": {
      "text/plain": [
       "array([[ 0.  ,  0.  ,  0.  , ...,  0.  ,  0.  ,  0.  ],\n",
       "       [ 0.  ,  0.  ,  0.  , ...,  0.  ,  0.  ,  0.  ],\n",
       "       [ 0.  ,  0.  ,  0.  , ...,  0.  ,  0.  ,  0.  ],\n",
       "       ...,\n",
       "       [ 0.05,  0.  ,  0.09, ..., -0.64,  0.  ,  0.36],\n",
       "       [ 0.04,  0.  ,  0.09, ..., -0.64,  0.  ,  0.36],\n",
       "       [ 0.05,  0.  ,  0.09, ..., -0.64,  0.  ,  0.36]])"
      ]
     },
     "execution_count": 22,
     "metadata": {},
     "output_type": "execute_result"
    }
   ],
   "source": [
    "xArr, yArr = loadDataSet('abalone.txt')\n",
    "stageWise(xArr, yArr, 0.01, 200)"
   ]
  },
  {
   "cell_type": "markdown",
   "metadata": {},
   "source": [
    "##  看到那些参数为0的特征，很可能表明这些特征没用，这算是这个算法的优点，及时停止对不重要特征的搜集"
   ]
  },
  {
   "cell_type": "markdown",
   "metadata": {},
   "source": [
    "# 【预测乐高玩具套装价格】"
   ]
  },
  {
   "cell_type": "code",
   "execution_count": 23,
   "metadata": {},
   "outputs": [],
   "source": [
    "from bs4 import BeautifulSoup\n",
    "import random\n",
    "\n",
    "def scrapePage(retX, retY, inFile, yr, numPce, origPrc):\n",
    "    \n",
    "    # 打开并读取HTML文件\n",
    "    with open(inFile, encoding='utf-8') as f:\n",
    "        html = f.read()\n",
    "    soup = BeautifulSoup(html)\n",
    "\n",
    "    i = 1\n",
    "    # 根据HTML页面结构进行解析\n",
    "    currentRow = soup.find_all('table', r = \"%d\" % i)\n",
    "\n",
    "    while(len(currentRow) != 0):\n",
    "        currentRow = soup.find_all('table', r = \"%d\" % i)\n",
    "        title = currentRow[0].find_all('a')[1].text\n",
    "        lwrTitle = title.lower()\n",
    "        # 查找是否有全新标签\n",
    "        if (lwrTitle.find('new') > -1) or (lwrTitle.find('nisb') > -1):\n",
    "            newFlag = 1.0\n",
    "        else:\n",
    "            newFlag = 0.0\n",
    "\n",
    "        # 查找是否已经标志出售，我们只收集已出售的数据\n",
    "        soldUnicde = currentRow[0].find_all('td')[3].find_all('span')\n",
    "        if len(soldUnicde) == 0:\n",
    "            print(\"商品 #%d 没有出售\" % i)\n",
    "        else:\n",
    "            # 解析页面获取当前价格\n",
    "            soldPrice = currentRow[0].find_all('td')[4]\n",
    "            priceStr = soldPrice.text\n",
    "            priceStr = priceStr.replace('$','') \n",
    "            priceStr = priceStr.replace(',','')\n",
    "            if len(soldPrice) > 1:\n",
    "                priceStr = priceStr.replace('Free shipping', '')\n",
    "            sellingPrice = float(priceStr)\n",
    "\n",
    "            # 去掉不完整的套装价格\n",
    "            if  sellingPrice > origPrc * 0.5:\n",
    "                print(\"%d\\t%d\\t%d\\t%f\\t%f\" % (yr, numPce, newFlag, origPrc, sellingPrice))\n",
    "                retX.append([yr, numPce, newFlag, origPrc])\n",
    "                retY.append(sellingPrice)\n",
    "        i += 1\n",
    "        currentRow = soup.find_all('table', r = \"%d\" % i)\n",
    "\n",
    "def setDataCollect(retX, retY):\n",
    "    scrapePage(retX, retY, './lego/lego8288.html', 2006, 800, 49.99)\n",
    "    scrapePage(retX, retY, './lego/lego10030.html', 2002, 3096, 269.99)\n",
    "    scrapePage(retX, retY, './lego/lego10179.html', 2007, 5195, 499.99)\n",
    "    scrapePage(retX, retY, './lego/lego10181.html', 2007, 3428, 199.99)\n",
    "    scrapePage(retX, retY, './lego/lego10189.html', 2008, 5922, 299.99)\n",
    "    scrapePage(retX, retY, './lego/lego10196.html', 2009, 3263, 249.99)\n"
   ]
  },
  {
   "cell_type": "code",
   "execution_count": 24,
   "metadata": {},
   "outputs": [
    {
     "name": "stderr",
     "output_type": "stream",
     "text": [
      "C:\\Users\\Shanks\\Anaconda3\\lib\\site-packages\\bs4\\__init__.py:181: UserWarning: No parser was explicitly specified, so I'm using the best available HTML parser for this system (\"lxml\"). This usually isn't a problem, but if you run this code on another system, or in a different virtual environment, it may use a different parser and behave differently.\n",
      "\n",
      "The code that caused this warning is on line 193 of the file C:\\Users\\Shanks\\Anaconda3\\lib\\runpy.py. To get rid of this warning, change code that looks like this:\n",
      "\n",
      " BeautifulSoup(YOUR_MARKUP})\n",
      "\n",
      "to this:\n",
      "\n",
      " BeautifulSoup(YOUR_MARKUP, \"lxml\")\n",
      "\n",
      "  markup_type=markup_type))\n"
     ]
    },
    {
     "name": "stdout",
     "output_type": "stream",
     "text": [
      "2006\t800\t0\t49.990000\t85.000000\n",
      "2006\t800\t0\t49.990000\t102.500000\n",
      "2006\t800\t0\t49.990000\t77.000000\n",
      "商品 #4 没有出售\n",
      "2006\t800\t0\t49.990000\t162.500000\n",
      "2002\t3096\t0\t269.990000\t699.990000\n",
      "2002\t3096\t0\t269.990000\t602.000000\n",
      "2002\t3096\t0\t269.990000\t515.000000\n",
      "2002\t3096\t0\t269.990000\t510.000000\n",
      "2002\t3096\t0\t269.990000\t375.000000\n",
      "2002\t3096\t1\t269.990000\t1050.000000\n",
      "2002\t3096\t0\t269.990000\t740.000000\n",
      "2002\t3096\t1\t269.990000\t759.000000\n",
      "2002\t3096\t0\t269.990000\t730.000000\n",
      "2002\t3096\t1\t269.990000\t750.000000\n",
      "商品 #11 没有出售\n",
      "2007\t5195\t0\t499.990000\t910.000000\n",
      "2007\t5195\t1\t499.990000\t1199.990000\n",
      "2007\t5195\t0\t499.990000\t811.880000\n",
      "商品 #4 没有出售\n",
      "2007\t5195\t0\t499.990000\t1324.790000\n",
      "2007\t5195\t1\t499.990000\t850.000000\n",
      "2007\t5195\t1\t499.990000\t800.000000\n",
      "2007\t5195\t0\t499.990000\t810.000000\n",
      "2007\t5195\t1\t499.990000\t1075.000000\n",
      "2007\t5195\t0\t499.990000\t1050.000000\n",
      "2007\t5195\t1\t499.990000\t1199.990000\n",
      "2007\t5195\t0\t499.990000\t1342.310000\n",
      "2007\t5195\t1\t499.990000\t1000.000000\n",
      "2007\t5195\t0\t499.990000\t1780.000000\n",
      "2007\t5195\t0\t499.990000\t750.000000\n",
      "商品 #16 没有出售\n",
      "2007\t5195\t0\t499.990000\t2204.990000\n",
      "商品 #18 没有出售\n",
      "2007\t5195\t1\t499.990000\t925.000000\n",
      "2007\t5195\t0\t499.990000\t860.000000\n",
      "商品 #21 没有出售\n",
      "商品 #22 没有出售\n",
      "2007\t5195\t1\t499.990000\t1199.990000\n",
      "2007\t5195\t1\t499.990000\t1099.990000\n",
      "2007\t5195\t1\t499.990000\t1149.990000\n",
      "2007\t5195\t1\t499.990000\t800.000000\n",
      "2007\t5195\t1\t499.990000\t850.000000\n",
      "2007\t3428\t0\t199.990000\t469.950000\n",
      "2007\t3428\t0\t199.990000\t479.000000\n",
      "2007\t3428\t0\t199.990000\t299.990000\n",
      "2007\t3428\t0\t199.990000\t369.000000\n",
      "2007\t3428\t1\t199.990000\t424.950000\n",
      "2007\t3428\t1\t199.990000\t380.000000\n",
      "2007\t3428\t0\t199.990000\t305.000000\n",
      "2008\t5922\t1\t299.990000\t530.000000\n",
      "商品 #2 没有出售\n",
      "2008\t5922\t1\t299.990000\t599.950000\n",
      "2008\t5922\t0\t299.990000\t510.000000\n",
      "2008\t5922\t0\t299.990000\t423.000000\n",
      "商品 #6 没有出售\n",
      "商品 #7 没有出售\n",
      "2008\t5922\t1\t299.990000\t599.990000\n",
      "商品 #9 没有出售\n",
      "2008\t5922\t1\t299.990000\t589.990000\n",
      "2008\t5922\t1\t299.990000\t569.990000\n",
      "2008\t5922\t1\t299.990000\t529.990000\n",
      "2008\t5922\t0\t299.990000\t500.000000\n",
      "2008\t5922\t1\t299.990000\t549.950000\n",
      "2008\t5922\t0\t299.990000\t300.000000\n",
      "商品 #16 没有出售\n",
      "2009\t3263\t1\t249.990000\t380.000000\n",
      "2009\t3263\t1\t249.990000\t399.000000\n",
      "2009\t3263\t1\t249.990000\t427.990000\n",
      "2009\t3263\t0\t249.990000\t360.000000\n",
      "商品 #5 没有出售\n",
      "商品 #6 没有出售\n",
      "2009\t3263\t1\t249.990000\t399.000000\n",
      "2009\t3263\t1\t249.990000\t399.950000\n",
      "2009\t3263\t1\t249.990000\t499.990000\n",
      "商品 #10 没有出售\n",
      "2009\t3263\t0\t249.990000\t399.950000\n",
      "商品 #12 没有出售\n",
      "2009\t3263\t1\t249.990000\t331.510000\n"
     ]
    }
   ],
   "source": [
    "lgX = []\n",
    "lgY = []\n",
    "setDataCollect(lgX,lgY)"
   ]
  },
  {
   "cell_type": "code",
   "execution_count": 25,
   "metadata": {},
   "outputs": [
    {
     "data": {
      "text/plain": [
       "(63, 4)"
      ]
     },
     "execution_count": 25,
     "metadata": {},
     "output_type": "execute_result"
    }
   ],
   "source": [
    "shape(lgX)"
   ]
  },
  {
   "cell_type": "code",
   "execution_count": 26,
   "metadata": {},
   "outputs": [],
   "source": [
    "lgX1 = mat(ones((63,5)))\n",
    "lgX1[:, 1:5] = mat(lgX)"
   ]
  },
  {
   "cell_type": "code",
   "execution_count": 27,
   "metadata": {},
   "outputs": [
    {
     "data": {
      "text/plain": [
       "matrix([[1.000e+00, 2.006e+03, 8.000e+02, 0.000e+00, 4.999e+01]])"
      ]
     },
     "execution_count": 27,
     "metadata": {},
     "output_type": "execute_result"
    }
   ],
   "source": [
    "lgX1[0, :]"
   ]
  },
  {
   "cell_type": "code",
   "execution_count": 28,
   "metadata": {},
   "outputs": [
    {
     "name": "stdout",
     "output_type": "stream",
     "text": [
      "(4,)\n",
      "(63,)\n"
     ]
    }
   ],
   "source": [
    "print(shape(lgX[0]))\n",
    "print(shape(lgY))"
   ]
  },
  {
   "cell_type": "code",
   "execution_count": 29,
   "metadata": {},
   "outputs": [
    {
     "data": {
      "text/plain": [
       "matrix([[ 5.53199701e+04],\n",
       "        [-2.75928219e+01],\n",
       "        [-2.68392234e-02],\n",
       "        [-1.12208481e+01],\n",
       "        [ 2.57604055e+00]])"
      ]
     },
     "execution_count": 29,
     "metadata": {},
     "output_type": "execute_result"
    }
   ],
   "source": [
    "ws = standRegres(lgX1, lgY)\n",
    "ws"
   ]
  },
  {
   "cell_type": "code",
   "execution_count": 30,
   "metadata": {},
   "outputs": [
    {
     "name": "stdout",
     "output_type": "stream",
     "text": [
      "<class 'numpy.matrixlib.defmatrix.matrix'>\n",
      "<class 'numpy.matrixlib.defmatrix.matrix'>\n"
     ]
    },
    {
     "data": {
      "text/plain": [
       "matrix([[76.07418835]])"
      ]
     },
     "execution_count": 30,
     "metadata": {},
     "output_type": "execute_result"
    }
   ],
   "source": [
    "print(type(lgX1))\n",
    "print(type(ws))\n",
    "lgX1[0] * ws"
   ]
  },
  {
   "cell_type": "code",
   "execution_count": 31,
   "metadata": {},
   "outputs": [],
   "source": [
    "def crossValidation(xArr, yArr, numVal=10):\n",
    "    m = len(yArr)\n",
    "    indexList = list(range(m))\n",
    "    errorMat = zeros((numVal, 30))\n",
    "    for i in range(numVal):\n",
    "        trainX = []\n",
    "        trainY = []\n",
    "        testX = []\n",
    "        testY = []\n",
    "        random.shuffle(indexList)\n",
    "        for j in range(m):\n",
    "            if j < m * 0.9:\n",
    "                trainX.append(xArr[indexList[j]])\n",
    "                trainY.append(yArr[indexList[j]])\n",
    "            else:\n",
    "                testX.append(xArr[indexList[j]])\n",
    "                testY.append(yArr[indexList[j]])\n",
    "        wMat = ridgeTest(trainX, trainY)\n",
    "        for k in range(30):\n",
    "            matTestX = mat(testX)\n",
    "            matTrainX = mat(trainX)\n",
    "            meanTrain = mean(matTrainX, 0)\n",
    "            varTrain = var(matTrainX, 0)\n",
    "            matTestX = (matTestX - meanTrain) / varTrain  #用训练数据参数把测试数据标准化\n",
    "            yEst = matTestX * mat(wMat[k, :]).T + mean(testY)\n",
    "            errorMat[i, k] = rssError(yEst.T.A, array(testY))\n",
    "    meanErrors = mean(errorMat, 0)\n",
    "    minMean = float(min(meanErrors))\n",
    "    bestWeights = wMat[nonzero(meanErrors == minMean)]\n",
    "    xMat = mat(xArr)\n",
    "    yMat = mat(yArr).T\n",
    "    meanX = mean(xMat, 0)\n",
    "    varX = var(xMat, 0)\n",
    "    unReg = bestWeights / varX\n",
    "    print('The best model from Ridge Regression is: {}'.format(unReg))\n",
    "    print('with constant term: {}'.format(-1 * sum(multiply(meanX, unReg)) + mean(yMat)))"
   ]
  },
  {
   "cell_type": "code",
   "execution_count": 32,
   "metadata": {},
   "outputs": [
    {
     "name": "stdout",
     "output_type": "stream",
     "text": [
      "The best model from Ridge Regression is: [[-1.96881824e+01  8.08230063e-04 -2.42162820e+01  1.87563885e+00]]\n",
      "with constant term: 39579.52980338812\n"
     ]
    }
   ],
   "source": [
    "crossValidation(lgX, lgY, 10)"
   ]
  },
  {
   "cell_type": "code",
   "execution_count": 33,
   "metadata": {},
   "outputs": [
    {
     "data": {
      "text/plain": [
       "array([[-1.45288906e+02, -8.39360442e+03, -3.28682450e+00,\n",
       "         4.42362406e+04],\n",
       "       [-1.46649725e+02, -1.89952152e+03, -2.80638599e+00,\n",
       "         4.27891633e+04],\n",
       "       [-1.44450432e+02,  8.55488076e+02, -1.35089285e+00,\n",
       "         4.00885735e+04],\n",
       "       [-1.37402474e+02,  1.64217093e+03,  1.95840783e+00,\n",
       "         3.44932120e+04],\n",
       "       [-1.24750588e+02,  1.44326171e+03,  7.62540167e+00,\n",
       "         2.50647592e+04],\n",
       "       [-1.10234679e+02,  8.81842164e+02,  1.40617304e+01,\n",
       "         1.43874420e+04],\n",
       "       [-9.96484167e+01,  4.17805568e+02,  1.87140361e+01,\n",
       "         6.66770425e+03],\n",
       "       [-9.40345090e+01,  1.71289137e+02,  2.10844952e+01,\n",
       "         2.71206176e+03],\n",
       "       [-9.11400659e+01,  6.57287394e+01,  2.20487105e+01,\n",
       "         1.03800465e+03],\n",
       "       [-8.86246985e+01,  2.45452725e+01,  2.23181664e+01,\n",
       "         3.87564774e+02],\n",
       "       [-8.41447674e+01,  9.05861459e+00,  2.21495534e+01,\n",
       "         1.43313895e+02],\n",
       "       [-7.44804291e+01,  3.31863501e+00,  2.14607512e+01,\n",
       "         5.27810178e+01],\n",
       "       [-5.68008473e+01,  1.20770663e+00,  2.00168153e+01,\n",
       "         1.93999701e+01],\n",
       "       [-3.43546503e+01,  4.38238026e-01,  1.77836684e+01,\n",
       "         7.12719906e+00],\n",
       "       [-1.62951276e+01,  1.59882766e-01,  1.48514658e+01,\n",
       "         2.62234165e+00],\n",
       "       [-6.48291858e+00,  5.89025383e-02,  1.09847950e+01,\n",
       "         9.67404902e-01],\n",
       "       [-2.35268585e+00,  2.18391027e-02,  6.61152257e+00,\n",
       "         3.57478187e-01],\n",
       "       [-8.35001919e-01,  8.09519290e-03,  3.19552087e+00,\n",
       "         1.32007993e-01],\n",
       "       [-2.99711902e-01,  2.99108326e-03,  1.33043325e+00,\n",
       "         4.86659524e-02],\n",
       "       [-1.08982743e-01,  1.10249682e-03,  5.14449554e-01,\n",
       "         1.79199150e-02],\n",
       "       [-3.99038878e-02,  4.05898142e-04,  1.92885670e-01,\n",
       "         6.59479857e-03],\n",
       "       [-1.46534283e-02,  1.49365062e-04,  7.14631760e-02,\n",
       "         2.42642878e-03],\n",
       "       [-5.38707897e-03,  5.49542829e-05,  2.63587872e-02,\n",
       "         8.92679468e-04],\n",
       "       [-1.98130399e-03,  2.02173589e-05,  9.70622185e-03,\n",
       "         3.28404700e-04],\n",
       "       [-7.28814363e-04,  7.43766021e-06,  3.57198872e-03,\n",
       "         1.20814188e-04],\n",
       "       [-2.68106796e-04,  2.73617711e-06,  1.31423307e-03,\n",
       "         4.44451712e-05],\n",
       "       [-9.86297565e-05,  1.00658531e-06,  4.83502591e-04,\n",
       "         1.63504803e-05],\n",
       "       [-3.62836944e-05,  3.70302314e-07,  1.77873811e-04,\n",
       "         6.01500768e-06],\n",
       "       [-1.33480028e-05,  1.36226645e-07,  6.54365445e-05,\n",
       "         2.21279795e-06],\n",
       "       [-4.91045279e-06,  5.01149871e-08,  2.40728171e-05,\n",
       "         8.14042912e-07]])"
      ]
     },
     "execution_count": 33,
     "metadata": {},
     "output_type": "execute_result"
    }
   ],
   "source": [
    "ridgeTest(lgX, lgY)"
   ]
  },
  {
   "cell_type": "code",
   "execution_count": null,
   "metadata": {},
   "outputs": [],
   "source": []
  }
 ],
 "metadata": {
  "kernelspec": {
   "display_name": "Python 3",
   "language": "python",
   "name": "python3"
  },
  "language_info": {
   "codemirror_mode": {
    "name": "ipython",
    "version": 3
   },
   "file_extension": ".py",
   "mimetype": "text/x-python",
   "name": "python",
   "nbconvert_exporter": "python",
   "pygments_lexer": "ipython3",
   "version": "3.6.5"
  }
 },
 "nbformat": 4,
 "nbformat_minor": 2
}
