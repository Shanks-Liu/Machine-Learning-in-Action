{
 "cells": [
  {
   "cell_type": "code",
   "execution_count": 1,
   "metadata": {},
   "outputs": [],
   "source": [
    "from numpy import *"
   ]
  },
  {
   "cell_type": "code",
   "execution_count": 2,
   "metadata": {},
   "outputs": [],
   "source": [
    "def loadExData():\n",
    "    return [[1,1,1,0,0],\n",
    "           [2,2,2,0,0],\n",
    "           [1,1,1,0,0],\n",
    "           [5,5,5,0,0],\n",
    "           [1,1,0,2,2],\n",
    "           [0,0,0,3,3],\n",
    "           [0,0,0,1,1]]"
   ]
  },
  {
   "cell_type": "code",
   "execution_count": 3,
   "metadata": {},
   "outputs": [
    {
     "data": {
      "text/plain": [
       "array([9.72140007e+00, 5.29397912e+00, 6.84226362e-01, 4.11502614e-16,\n",
       "       1.36030206e-16])"
      ]
     },
     "execution_count": 3,
     "metadata": {},
     "output_type": "execute_result"
    }
   ],
   "source": [
    "Data = loadExData()\n",
    "U, sigma, VT = linalg.svd(Data)\n",
    "sigma"
   ]
  },
  {
   "cell_type": "markdown",
   "metadata": {},
   "source": [
    "后两个数值数量级太小，于是可以删掉"
   ]
  },
  {
   "cell_type": "code",
   "execution_count": 4,
   "metadata": {},
   "outputs": [
    {
     "data": {
      "text/plain": [
       "matrix([[ 1.00000000e+00,  1.00000000e+00,  1.00000000e+00,\n",
       "          7.75989921e-16,  7.71587483e-16],\n",
       "        [ 2.00000000e+00,  2.00000000e+00,  2.00000000e+00,\n",
       "          3.00514919e-16,  2.77832253e-16],\n",
       "        [ 1.00000000e+00,  1.00000000e+00,  1.00000000e+00,\n",
       "          2.18975112e-16,  2.07633779e-16],\n",
       "        [ 5.00000000e+00,  5.00000000e+00,  5.00000000e+00,\n",
       "          3.00675663e-17, -1.28697294e-17],\n",
       "        [ 1.00000000e+00,  1.00000000e+00, -5.48397422e-16,\n",
       "          2.00000000e+00,  2.00000000e+00],\n",
       "        [ 3.21319929e-16,  4.43562065e-16, -3.48967188e-16,\n",
       "          3.00000000e+00,  3.00000000e+00],\n",
       "        [ 9.71445147e-17,  1.45716772e-16, -1.52655666e-16,\n",
       "          1.00000000e+00,  1.00000000e+00]])"
      ]
     },
     "execution_count": 4,
     "metadata": {},
     "output_type": "execute_result"
    }
   ],
   "source": [
    "sig3 = mat([[sigma[0], 0, 0], [0, sigma[1], 0], [0, 0, sigma[2]]])\n",
    "U[:, :3] * sig3 * VT[:3, :]  #这三个矩阵相乘就对原矩阵做了近似,形状不变"
   ]
  },
  {
   "cell_type": "markdown",
   "metadata": {},
   "source": [
    "#### 如何确定保留多少奇异值？  \n",
    " - 计算总能量信息，可以将奇异值求平方和，加到超过90%以上就可以   \n",
    " - 如果奇异值有上万个，就保留前2000或者3000个"
   ]
  },
  {
   "cell_type": "markdown",
   "metadata": {},
   "source": [
    "# 基于协同过滤的推荐系统\n",
    "\n",
    "### 相似度计算\n",
    " - 第一种方法：相似度 = 1 / （1 + 欧式距离）\n",
    " - 第二种方法：相似度 = 0.5 + 0.5 * corrcoef()   因为Pearson相关系数取值是在-1到+1之间\n",
    " - 第三种方法：相似度 = 0.5 + 0.5 * 余弦相似度"
   ]
  },
  {
   "cell_type": "code",
   "execution_count": 34,
   "metadata": {},
   "outputs": [],
   "source": [
    "def ecludSim(inA, inB):\n",
    "    return 1.0 / (1.0 + linalg.norm(inA - inB))\n",
    "\n",
    "def pearsSim(inA, inB):\n",
    "    if len(inA) < 3:\n",
    "        return 1.0  # 如果向量长度小于3，那么计算出来的pearson相关系数必定是1，两个向量完全相关\n",
    "    return 0.5 + 0.5 * corrcoef(inA, inB, rowvar=0)[0][1]\n",
    "\n",
    "def cosSim(inA, inB):\n",
    "    #print((inA.T * inB)[0][0])  ###\n",
    "    return 0.5 + 0.5 * (float(inA.T * inB) / (linalg.norm(inA) * linalg.norm(inB)))"
   ]
  },
  {
   "cell_type": "code",
   "execution_count": 26,
   "metadata": {},
   "outputs": [],
   "source": [
    "myMat = mat(Data)"
   ]
  },
  {
   "cell_type": "code",
   "execution_count": 27,
   "metadata": {},
   "outputs": [
    {
     "name": "stdout",
     "output_type": "stream",
     "text": [
      ">>>>>>>>>>>>>欧式距离相似度 0.13367660240019172\n",
      ">>>>>>>>>>>>>余弦相似度 0.5472455591261534\n",
      ">>>>>>>>>>>>>pearson相关系数相似度 0.23768619407595815\n"
     ]
    }
   ],
   "source": [
    "print('>>>>>>>>>>>>>欧式距离相似度', euclidSim(myMat[:,0], myMat[:,4]))\n",
    "print('>>>>>>>>>>>>>余弦相似度', cosSim(myMat[:,0], myMat[:,4]))\n",
    "print('>>>>>>>>>>>>>pearson相关系数相似度', pearsSim(myMat[:,0], myMat[:,4]))"
   ]
  },
  {
   "cell_type": "markdown",
   "metadata": {},
   "source": [
    "如果用户数目多，就倾向于使用基于物品相似度的计算方法"
   ]
  },
  {
   "cell_type": "code",
   "execution_count": 28,
   "metadata": {},
   "outputs": [],
   "source": [
    "def standEst(dataMat, user, simMeas, item):\n",
    "    n = shape(dataMat)[1]  #物品数目\n",
    "    simTotal = 0.0\n",
    "    ratSimTotal = 0.0\n",
    "    for j in range(n):\n",
    "        userRating = dataMat[user, j]\n",
    "        if userRating == 0.0:  #评分为0，跳过这个物品\n",
    "            continue\n",
    "        ##这里给出的是符合条件的前面那个列向量里的元素的索引!\n",
    "        overLap = nonzero(logical_and(dataMat[:, item].A>0, dataMat[:, j].A>0))[0]  \n",
    "        if len(overLap) == 0.0:\n",
    "            similarity = 0\n",
    "        else:\n",
    "            similarity = simMeas(dataMat[overLap, item], dataMat[overLap, j])\n",
    "        print(f\"the {item}th and {j}th's similarity is {similarity} \")\n",
    "        simTotal += similarity\n",
    "        ratSimTotal += similarity * userRating ##把该用户对每列物品的评分作为权重乘上去,结果会落在1-5之间\n",
    "    if simTotal == 0.0:\n",
    "        return 0\n",
    "    else:\n",
    "        return ratSimTotal / simTotal  ##对该item物品最终的预测值\n",
    "    \n",
    "    \n",
    "def recommend(dataMat, user, N=3, simMeas=cosSim, estMethod=standEst):\n",
    "    unratedItems = nonzero(dataMat[user, :].A == 0)[1]  #该用户没预测的那些items的列索引\n",
    "    if len(unratedItems) == 0.0:\n",
    "        return 'you rated everything'\n",
    "    itemScores = []\n",
    "    for item in unratedItems:  #把每个没预测的item放到上面那个函数里，得到一个预测值\n",
    "        estimatedScore = estMethod(dataMat, user, simMeas, item)\n",
    "        itemScores.append((item, estimatedScore))\n",
    "    return sorted(itemScores, key = lambda jj: jj[1], reverse= True)[:N]"
   ]
  },
  {
   "cell_type": "code",
   "execution_count": 29,
   "metadata": {},
   "outputs": [],
   "source": [
    "myMat = mat(loadExData())"
   ]
  },
  {
   "cell_type": "code",
   "execution_count": 30,
   "metadata": {},
   "outputs": [],
   "source": [
    "myMat[0,1] = myMat[0,0] = myMat[1,0] = myMat[2,0] = 4\n",
    "myMat[3,3] = 2"
   ]
  },
  {
   "cell_type": "code",
   "execution_count": 31,
   "metadata": {},
   "outputs": [
    {
     "data": {
      "text/plain": [
       "matrix([[4, 4, 1, 0, 0],\n",
       "        [4, 2, 2, 0, 0],\n",
       "        [4, 1, 1, 0, 0],\n",
       "        [5, 5, 5, 2, 0],\n",
       "        [1, 1, 0, 2, 2],\n",
       "        [0, 0, 0, 3, 3],\n",
       "        [0, 0, 0, 1, 1]])"
      ]
     },
     "execution_count": 31,
     "metadata": {},
     "output_type": "execute_result"
    }
   ],
   "source": [
    "myMat"
   ]
  },
  {
   "cell_type": "code",
   "execution_count": 32,
   "metadata": {},
   "outputs": [
    {
     "name": "stdout",
     "output_type": "stream",
     "text": [
      "the 3th and 0th's similarity is 0.9160251471689218 \n",
      "the 3th and 1th's similarity is 0.9160251471689218 \n",
      "the 3th and 2th's similarity is 1.0 \n",
      "the 4th and 0th's similarity is 1.0 \n",
      "the 4th and 1th's similarity is 1.0 \n",
      "the 4th and 2th's similarity is 0 \n"
     ]
    },
    {
     "data": {
      "text/plain": [
       "[(4, 2.5), (3, 1.9703483892927431)]"
      ]
     },
     "execution_count": 32,
     "metadata": {},
     "output_type": "execute_result"
    }
   ],
   "source": [
    "recommend(myMat, 2)"
   ]
  },
  {
   "cell_type": "code",
   "execution_count": 35,
   "metadata": {},
   "outputs": [
    {
     "name": "stdout",
     "output_type": "stream",
     "text": [
      "the 3th and 0th's similarity is 0.2402530733520421 \n",
      "the 3th and 1th's similarity is 0.2402530733520421 \n",
      "the 3th and 2th's similarity is 0.25 \n",
      "the 4th and 0th's similarity is 0.5 \n",
      "the 4th and 1th's similarity is 0.5 \n",
      "the 4th and 2th's similarity is 0 \n"
     ]
    },
    {
     "data": {
      "text/plain": [
       "[(4, 2.5), (3, 1.98665729687295)]"
      ]
     },
     "execution_count": 35,
     "metadata": {},
     "output_type": "execute_result"
    }
   ],
   "source": [
    "recommend(myMat, 2, simMeas=ecludSim)"
   ]
  },
  {
   "cell_type": "markdown",
   "metadata": {},
   "source": [
    "# 举例更加稀疏的矩阵"
   ]
  },
  {
   "cell_type": "code",
   "execution_count": 36,
   "metadata": {},
   "outputs": [],
   "source": [
    "def loadExData2():\n",
    "    return[[0, 0, 0, 0, 0, 4, 0, 0, 0, 0, 5],\n",
    "           [0, 0, 0, 3, 0, 4, 0, 0, 0, 0, 3],\n",
    "           [0, 0, 0, 0, 4, 0, 0, 1, 0, 4, 0],\n",
    "           [3, 3, 4, 0, 0, 0, 0, 2, 2, 0, 0],\n",
    "           [5, 4, 5, 0, 0, 0, 0, 5, 5, 0, 0],\n",
    "           [0, 0, 0, 0, 5, 0, 1, 0, 0, 5, 0],\n",
    "           [4, 3, 4, 0, 0, 0, 0, 5, 5, 0, 1],\n",
    "           [0, 0, 0, 4, 0, 4, 0, 0, 0, 0, 4],\n",
    "           [0, 0, 0, 2, 0, 2, 5, 0, 0, 1, 2],\n",
    "           [0, 0, 0, 0, 5, 0, 0, 0, 0, 4, 0],\n",
    "           [1, 0, 0, 0, 0, 0, 0, 1, 2, 0, 0]]"
   ]
  },
  {
   "cell_type": "code",
   "execution_count": 37,
   "metadata": {},
   "outputs": [],
   "source": [
    "data = loadExData2()\n",
    "U, sigma, VT = linalg.svd(data)"
   ]
  },
  {
   "cell_type": "code",
   "execution_count": 38,
   "metadata": {},
   "outputs": [
    {
     "data": {
      "text/plain": [
       "array([15.77075346, 11.40670395, 11.03044558,  4.84639758,  3.09292055,\n",
       "        2.58097379,  1.00413543,  0.72817072,  0.43800353,  0.22082113,\n",
       "        0.07367823])"
      ]
     },
     "execution_count": 38,
     "metadata": {},
     "output_type": "execute_result"
    }
   ],
   "source": [
    "sigma"
   ]
  },
  {
   "cell_type": "markdown",
   "metadata": {},
   "source": [
    "### 看一下多少奇异值能达到总能量的90%"
   ]
  },
  {
   "cell_type": "code",
   "execution_count": 41,
   "metadata": {},
   "outputs": [
    {
     "data": {
      "text/plain": [
       "541.9999999999995"
      ]
     },
     "execution_count": 41,
     "metadata": {},
     "output_type": "execute_result"
    }
   ],
   "source": [
    "Sig2 = sigma ** 2\n",
    "sum(Sig2)"
   ]
  },
  {
   "cell_type": "code",
   "execution_count": 42,
   "metadata": {},
   "outputs": [
    {
     "data": {
      "text/plain": [
       "487.7999999999996"
      ]
     },
     "execution_count": 42,
     "metadata": {},
     "output_type": "execute_result"
    }
   ],
   "source": [
    "sum(Sig2) * 0.9"
   ]
  },
  {
   "cell_type": "code",
   "execution_count": 43,
   "metadata": {},
   "outputs": [
    {
     "data": {
      "text/plain": [
       "500.5002891275793"
      ]
     },
     "execution_count": 43,
     "metadata": {},
     "output_type": "execute_result"
    }
   ],
   "source": [
    "sum(Sig2[:3])"
   ]
  },
  {
   "cell_type": "markdown",
   "metadata": {},
   "source": [
    "### ↑说明前3个元素高于总能量的90%\n",
    "<br/>\n",
    "### ↓用于替换之前的standEst函数"
   ]
  },
  {
   "cell_type": "code",
   "execution_count": 48,
   "metadata": {},
   "outputs": [],
   "source": [
    "def svdEst(dataMat, user, simMeas, item):\n",
    "    n = shape(dataMat)[1]\n",
    "    simTotal = 0.0\n",
    "    ratSimTotal = 0.0\n",
    "    U, sigma, VT = linalg.svd(dataMat)\n",
    "    sig4 = mat(eye(4) * sigma[:4])    \n",
    "    # ↑建立对角矩阵，↓把物品转换到低维空间中！行数不变，列数变成4\n",
    "    xformedItems = dataMat.T * U[:, :4] * sig4.I\n",
    "    for j in range(n):\n",
    "        userRating = dataMat[user, j]\n",
    "        if userRating == 0 or j == item:\n",
    "            continue\n",
    "        similarity = simMeas(xformedItems[item, :].T, xformedItems[j,:].T)  #注意这里的转置\n",
    "        print(f'the {item} and {j}\"s similarity is {similarity}')\n",
    "        simTotal += similarity\n",
    "        ratSimTotal += similarity * userRating\n",
    "    if simTotal == 0:\n",
    "        return 0\n",
    "    else:\n",
    "        return ratSimTotal / simTotal"
   ]
  },
  {
   "cell_type": "code",
   "execution_count": 49,
   "metadata": {},
   "outputs": [
    {
     "name": "stdout",
     "output_type": "stream",
     "text": [
      "the 0 and 3\"s similarity is 0.4909504362809656\n",
      "the 0 and 5\"s similarity is 0.4842736086328837\n",
      "the 0 and 10\"s similarity is 0.5127549449063614\n",
      "the 1 and 3\"s similarity is 0.4912944647425579\n",
      "the 1 and 5\"s similarity is 0.48151631061179956\n",
      "the 1 and 10\"s similarity is 0.5097088624883724\n",
      "the 2 and 3\"s similarity is 0.49157334483312753\n",
      "the 2 and 5\"s similarity is 0.48234642287065527\n",
      "the 2 and 10\"s similarity is 0.5105839479452583\n",
      "the 4 and 3\"s similarity is 0.45049477333058713\n",
      "the 4 and 5\"s similarity is 0.5067948022540271\n",
      "the 4 and 10\"s similarity is 0.5128956287600113\n",
      "the 6 and 3\"s similarity is 0.7436990825417139\n",
      "the 6 and 5\"s similarity is 0.4683659603773957\n",
      "the 6 and 10\"s similarity is 0.43946465013002367\n",
      "the 7 and 3\"s similarity is 0.48217502131974066\n",
      "the 7 and 5\"s similarity is 0.4947163013621477\n",
      "the 7 and 10\"s similarity is 0.5249702098778073\n",
      "the 8 and 3\"s similarity is 0.49130720909511133\n",
      "the 8 and 5\"s similarity is 0.4912277621682814\n",
      "the 8 and 10\"s similarity is 0.5202895926889712\n",
      "the 9 and 3\"s similarity is 0.5223789239814213\n",
      "the 9 and 5\"s similarity is 0.49612960402739814\n",
      "the 9 and 10\"s similarity is 0.4936166741121433\n"
     ]
    },
    {
     "data": {
      "text/plain": [
       "[(4, 3.344714938469228), (7, 3.3294020724526967), (9, 3.3281008763900686)]"
      ]
     },
     "execution_count": 49,
     "metadata": {},
     "output_type": "execute_result"
    }
   ],
   "source": [
    "data = mat(data)\n",
    "recommend(data, 1, estMethod=svdEst)"
   ]
  },
  {
   "cell_type": "markdown",
   "metadata": {},
   "source": [
    "## 看一下重构后的数据"
   ]
  },
  {
   "cell_type": "code",
   "execution_count": 52,
   "metadata": {},
   "outputs": [
    {
     "name": "stdout",
     "output_type": "stream",
     "text": [
      "[[-0.45137416  0.03084799 -0.00290108  0.01189185]\n",
      " [-0.36239706  0.02584428 -0.00189127  0.01348796]\n",
      " [-0.46879252  0.03296133 -0.00281253  0.01656192]\n",
      " [-0.01007685 -0.34024331 -0.22728592  0.14546051]\n",
      " [-0.01567036 -0.38750193  0.61197998 -0.17137451]\n",
      " [-0.01664563 -0.52000097 -0.3608907  -0.14984063]\n",
      " [-0.00474684 -0.18887149 -0.00924222  0.94228361]\n",
      " [-0.46712774  0.00389831  0.03349951 -0.02080674]\n",
      " [-0.47223188  0.02853952 -0.00504059  0.00160266]\n",
      " [-0.01591788 -0.39205093  0.55707516  0.04356321]\n",
      " [-0.0552444  -0.52034959 -0.36330956 -0.19023805]]\n"
     ]
    }
   ],
   "source": [
    "dataMat = loadExData2()\n",
    "dataMat = mat(dataMat)\n",
    "U, sigma, VT = linalg.svd(dataMat)\n",
    "sig4 = mat(eye(4) * sigma[:4])    \n",
    "xformedItems = dataMat.T * U[:, :4] * sig4.I\n",
    "print(xformedItems)"
   ]
  },
  {
   "cell_type": "markdown",
   "metadata": {},
   "source": [
    "### ↑发现行数没变，列数变成4了\n",
    "\n",
    "## 以上推荐引擎存在的问题\n",
    " - SVD会降低程序的速度，可以程序调用时运行一下或者离线运行\n",
    " - 可以存储非零元素节省空间，相似度计算造成计算资源浪费，可以离线运行\n",
    " - 冷启动问题，可以将推荐看成是搜索问题，需要所推荐物品的属性，这些属性可以作为相似度计算所需要的数据，这被称为基于内容的推荐"
   ]
  },
  {
   "cell_type": "markdown",
   "metadata": {},
   "source": [
    "# 示例： 基于SVD的图像压缩"
   ]
  },
  {
   "cell_type": "code",
   "execution_count": 66,
   "metadata": {},
   "outputs": [],
   "source": [
    "def printMat(inMat, thresh=0.8):\n",
    "    for i in range(32):\n",
    "        for k in range(32):\n",
    "            if float(inMat[i, k]) > thresh:\n",
    "                print  (1, end='')\n",
    "            else:\n",
    "                print(0, end='')\n",
    "        print('')\n",
    "        \n",
    "def imgCompress(numSV=3, thresh=0.8):\n",
    "    myl = []\n",
    "    for line in open('0_5.txt').readlines():\n",
    "        newRow = []\n",
    "        for i in range(32):\n",
    "            newRow.append(int(line[i]))\n",
    "        myl.append(newRow)\n",
    "    myMat = mat(myl)\n",
    "    print('********************原始矩阵*********************')\n",
    "    printMat(myMat, thresh)\n",
    "    U, sigma, VT = linalg.svd(myMat)\n",
    "    sigRecon = mat(zeros((numSV, numSV)))\n",
    "    for k in range(numSV):\n",
    "        sigRecon[k,k] = sigma[k]\n",
    "    reconMat = U[:, :numSV] * sigRecon * VT[:numSV, :]\n",
    "    print(f'*****************用{numSV}个奇异值重构后的矩阵*********************')\n",
    "    printMat(reconMat, thresh)"
   ]
  },
  {
   "cell_type": "markdown",
   "metadata": {},
   "source": [
    "### 直接打印矩阵和用画图函数的区别↓"
   ]
  },
  {
   "cell_type": "code",
   "execution_count": 67,
   "metadata": {},
   "outputs": [
    {
     "name": "stdout",
     "output_type": "stream",
     "text": [
      "[[0 0 0 ... 0 0 0]\n",
      " [0 0 0 ... 0 0 0]\n",
      " [0 0 0 ... 0 0 0]\n",
      " ...\n",
      " [0 0 0 ... 0 0 0]\n",
      " [0 0 0 ... 0 0 0]\n",
      " [0 0 0 ... 0 0 0]]\n",
      "00000000000000110000000000000000\n",
      "00000000000011111100000000000000\n",
      "00000000000111111110000000000000\n",
      "00000000001111111111000000000000\n",
      "00000000111111111111100000000000\n",
      "00000001111111111111110000000000\n",
      "00000000111111111111111000000000\n",
      "00000000111111100001111100000000\n",
      "00000001111111000001111100000000\n",
      "00000011111100000000111100000000\n",
      "00000011111100000000111110000000\n",
      "00000011111100000000011110000000\n",
      "00000011111100000000011110000000\n",
      "00000001111110000000001111000000\n",
      "00000011111110000000001111000000\n",
      "00000011111100000000001111000000\n",
      "00000001111100000000001111000000\n",
      "00000011111100000000001111000000\n",
      "00000001111100000000001111000000\n",
      "00000001111100000000011111000000\n",
      "00000000111110000000001111100000\n",
      "00000000111110000000001111100000\n",
      "00000000111110000000001111100000\n",
      "00000000111110000000011111000000\n",
      "00000000111110000000111111000000\n",
      "00000000111111000001111110000000\n",
      "00000000011111111111111110000000\n",
      "00000000001111111111111110000000\n",
      "00000000001111111111111110000000\n",
      "00000000000111111111111000000000\n",
      "00000000000011111111110000000000\n",
      "00000000000000111111000000000000\n"
     ]
    }
   ],
   "source": [
    "myl = []\n",
    "for line in open('0_5.txt').readlines():\n",
    "    newRow = []\n",
    "    for i in range(32):\n",
    "        newRow.append(int(line[i]))\n",
    "    myl.append(newRow)\n",
    "myMat = mat(myl)\n",
    "print(myMat)\n",
    "\n",
    "printMat(myMat, thresh=0.8)"
   ]
  },
  {
   "cell_type": "code",
   "execution_count": 68,
   "metadata": {},
   "outputs": [
    {
     "name": "stdout",
     "output_type": "stream",
     "text": [
      "********************原始矩阵*********************\n",
      "00000000000000110000000000000000\n",
      "00000000000011111100000000000000\n",
      "00000000000111111110000000000000\n",
      "00000000001111111111000000000000\n",
      "00000000111111111111100000000000\n",
      "00000001111111111111110000000000\n",
      "00000000111111111111111000000000\n",
      "00000000111111100001111100000000\n",
      "00000001111111000001111100000000\n",
      "00000011111100000000111100000000\n",
      "00000011111100000000111110000000\n",
      "00000011111100000000011110000000\n",
      "00000011111100000000011110000000\n",
      "00000001111110000000001111000000\n",
      "00000011111110000000001111000000\n",
      "00000011111100000000001111000000\n",
      "00000001111100000000001111000000\n",
      "00000011111100000000001111000000\n",
      "00000001111100000000001111000000\n",
      "00000001111100000000011111000000\n",
      "00000000111110000000001111100000\n",
      "00000000111110000000001111100000\n",
      "00000000111110000000001111100000\n",
      "00000000111110000000011111000000\n",
      "00000000111110000000111111000000\n",
      "00000000111111000001111110000000\n",
      "00000000011111111111111110000000\n",
      "00000000001111111111111110000000\n",
      "00000000001111111111111110000000\n",
      "00000000000111111111111000000000\n",
      "00000000000011111111110000000000\n",
      "00000000000000111111000000000000\n",
      "*****************用2个奇异值重构后的矩阵*********************\n",
      "00000000000000000000000000000000\n",
      "00000000000000000000000000000000\n",
      "00000000000001111100000000000000\n",
      "00000000000011111111000000000000\n",
      "00000000000111111111100000000000\n",
      "00000000001111111111110000000000\n",
      "00000000001111111111110000000000\n",
      "00000000011110000000001000000000\n",
      "00000000111100000000001100000000\n",
      "00000000111100000000001110000000\n",
      "00000000111100000000001110000000\n",
      "00000000111100000000001110000000\n",
      "00000000111100000000001110000000\n",
      "00000000111100000000001110000000\n",
      "00000000111100000000001110000000\n",
      "00000000111100000000001110000000\n",
      "00000000111100000000001110000000\n",
      "00000000111100000000001110000000\n",
      "00000000111100000000001110000000\n",
      "00000000111100000000001110000000\n",
      "00000000111100000000001110000000\n",
      "00000000111100000000001110000000\n",
      "00000000111100000000001110000000\n",
      "00000000111100000000001110000000\n",
      "00000000111100000000001110000000\n",
      "00000000111100000000001100000000\n",
      "00000000001111111111111000000000\n",
      "00000000001111111111110000000000\n",
      "00000000001111111111110000000000\n",
      "00000000000011111111100000000000\n",
      "00000000000011111111000000000000\n",
      "00000000000000000000000000000000\n"
     ]
    }
   ],
   "source": [
    "imgCompress(2)"
   ]
  },
  {
   "cell_type": "markdown",
   "metadata": {},
   "source": [
    "## ↑可以看到，只需两个奇异值就能精准的对图像进行重构，数据量进行了极大的压缩\n",
    " - 原始数据 $ 32*32 = 1024 $\n",
    " - 重构后的数据 $ 32*2 + 32*2 + 2 = 130 $"
   ]
  }
 ],
 "metadata": {
  "kernelspec": {
   "display_name": "Python 3",
   "language": "python",
   "name": "python3"
  },
  "language_info": {
   "codemirror_mode": {
    "name": "ipython",
    "version": 3
   },
   "file_extension": ".py",
   "mimetype": "text/x-python",
   "name": "python",
   "nbconvert_exporter": "python",
   "pygments_lexer": "ipython3",
   "version": "3.6.5"
  }
 },
 "nbformat": 4,
 "nbformat_minor": 2
}
